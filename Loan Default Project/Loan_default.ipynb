{
 "cells": [
  {
   "cell_type": "markdown",
   "id": "f332ef99-1fb7-4f9c-bccd-7fe5f0e3fa77",
   "metadata": {},
   "source": [
    "## Loan default Project"
   ]
  },
  {
   "cell_type": "markdown",
   "id": "2bdb7fda-bd97-441d-a33c-1b2087a37ccc",
   "metadata": {},
   "source": [
    "Importing packages"
   ]
  },
  {
   "cell_type": "code",
   "execution_count": 14,
   "id": "ade0449b-2db3-4788-baa2-d7b1630dc58c",
   "metadata": {},
   "outputs": [],
   "source": [
    "import pandas as pd\n",
    "from pandas_profiling import ProfileReport\n",
    "import missingno as msno\n",
    "import matplotlib.pyplot as plt\n",
    "import seaborn as sns\n",
    "import numpy as np\n",
    "import miceforest as mf\n",
    "from sklearn.feature_selection import f_classif\n",
    "from sklearn.feature_selection import SelectKBest\n",
    "from sklearn.ensemble import RandomForestClassifier\n",
    "from sklearn.preprocessing import LabelEncoder\n",
    "from sklearn.model_selection import train_test_split\n",
    "from sklearn.model_selection import RandomizedSearchCV\n",
    "from sklearn.model_selection import GridSearchCV\n",
    "from sklearn import metrics"
   ]
  },
  {
   "cell_type": "markdown",
   "id": "bd2c2e91-cb95-456f-b672-fc2de66c3e3a",
   "metadata": {},
   "source": [
    "Reading data in "
   ]
  },
  {
   "cell_type": "code",
   "execution_count": 15,
   "id": "24f8a92b-8e85-443c-aa48-5db0ecaf3367",
   "metadata": {},
   "outputs": [],
   "source": [
    "data = pd.read_csv(\"Loan_Default.csv\")"
   ]
  },
  {
   "cell_type": "code",
   "execution_count": 16,
   "id": "eb9c8386-cdeb-44fe-8ba0-7e3274566587",
   "metadata": {},
   "outputs": [],
   "source": [
    "original_df = data.copy()"
   ]
  },
  {
   "cell_type": "markdown",
   "id": "909fa346-45fa-4779-8c36-d56036b31bca",
   "metadata": {},
   "source": [
    "first look through data"
   ]
  },
  {
   "cell_type": "code",
   "execution_count": 17,
   "id": "098f2d2a-d1ea-40ed-9cdd-e24ca1c0abe9",
   "metadata": {},
   "outputs": [
    {
     "data": {
      "text/plain": [
       "(148670, 34)"
      ]
     },
     "execution_count": 17,
     "metadata": {},
     "output_type": "execute_result"
    }
   ],
   "source": [
    "data.shape"
   ]
  },
  {
   "cell_type": "code",
   "execution_count": 18,
   "id": "f6c50d72-e9d8-4477-ae25-deaf06bec8ae",
   "metadata": {},
   "outputs": [
    {
     "data": {
      "text/html": [
       "<div>\n",
       "<style scoped>\n",
       "    .dataframe tbody tr th:only-of-type {\n",
       "        vertical-align: middle;\n",
       "    }\n",
       "\n",
       "    .dataframe tbody tr th {\n",
       "        vertical-align: top;\n",
       "    }\n",
       "\n",
       "    .dataframe thead th {\n",
       "        text-align: right;\n",
       "    }\n",
       "</style>\n",
       "<table border=\"1\" class=\"dataframe\">\n",
       "  <thead>\n",
       "    <tr style=\"text-align: right;\">\n",
       "      <th></th>\n",
       "      <th>ID</th>\n",
       "      <th>year</th>\n",
       "      <th>loan_limit</th>\n",
       "      <th>Gender</th>\n",
       "      <th>approv_in_adv</th>\n",
       "      <th>loan_type</th>\n",
       "      <th>loan_purpose</th>\n",
       "      <th>Credit_Worthiness</th>\n",
       "      <th>open_credit</th>\n",
       "      <th>business_or_commercial</th>\n",
       "      <th>...</th>\n",
       "      <th>credit_type</th>\n",
       "      <th>Credit_Score</th>\n",
       "      <th>co-applicant_credit_type</th>\n",
       "      <th>age</th>\n",
       "      <th>submission_of_application</th>\n",
       "      <th>LTV</th>\n",
       "      <th>Region</th>\n",
       "      <th>Security_Type</th>\n",
       "      <th>Status</th>\n",
       "      <th>dtir1</th>\n",
       "    </tr>\n",
       "  </thead>\n",
       "  <tbody>\n",
       "    <tr>\n",
       "      <th>0</th>\n",
       "      <td>24890</td>\n",
       "      <td>2019</td>\n",
       "      <td>cf</td>\n",
       "      <td>Sex Not Available</td>\n",
       "      <td>nopre</td>\n",
       "      <td>type1</td>\n",
       "      <td>p1</td>\n",
       "      <td>l1</td>\n",
       "      <td>nopc</td>\n",
       "      <td>nob/c</td>\n",
       "      <td>...</td>\n",
       "      <td>EXP</td>\n",
       "      <td>758</td>\n",
       "      <td>CIB</td>\n",
       "      <td>25-34</td>\n",
       "      <td>to_inst</td>\n",
       "      <td>98.728814</td>\n",
       "      <td>south</td>\n",
       "      <td>direct</td>\n",
       "      <td>1</td>\n",
       "      <td>45.0</td>\n",
       "    </tr>\n",
       "    <tr>\n",
       "      <th>1</th>\n",
       "      <td>24891</td>\n",
       "      <td>2019</td>\n",
       "      <td>cf</td>\n",
       "      <td>Male</td>\n",
       "      <td>nopre</td>\n",
       "      <td>type2</td>\n",
       "      <td>p1</td>\n",
       "      <td>l1</td>\n",
       "      <td>nopc</td>\n",
       "      <td>b/c</td>\n",
       "      <td>...</td>\n",
       "      <td>EQUI</td>\n",
       "      <td>552</td>\n",
       "      <td>EXP</td>\n",
       "      <td>55-64</td>\n",
       "      <td>to_inst</td>\n",
       "      <td>NaN</td>\n",
       "      <td>North</td>\n",
       "      <td>direct</td>\n",
       "      <td>1</td>\n",
       "      <td>NaN</td>\n",
       "    </tr>\n",
       "    <tr>\n",
       "      <th>2</th>\n",
       "      <td>24892</td>\n",
       "      <td>2019</td>\n",
       "      <td>cf</td>\n",
       "      <td>Male</td>\n",
       "      <td>pre</td>\n",
       "      <td>type1</td>\n",
       "      <td>p1</td>\n",
       "      <td>l1</td>\n",
       "      <td>nopc</td>\n",
       "      <td>nob/c</td>\n",
       "      <td>...</td>\n",
       "      <td>EXP</td>\n",
       "      <td>834</td>\n",
       "      <td>CIB</td>\n",
       "      <td>35-44</td>\n",
       "      <td>to_inst</td>\n",
       "      <td>80.019685</td>\n",
       "      <td>south</td>\n",
       "      <td>direct</td>\n",
       "      <td>0</td>\n",
       "      <td>46.0</td>\n",
       "    </tr>\n",
       "    <tr>\n",
       "      <th>3</th>\n",
       "      <td>24893</td>\n",
       "      <td>2019</td>\n",
       "      <td>cf</td>\n",
       "      <td>Male</td>\n",
       "      <td>nopre</td>\n",
       "      <td>type1</td>\n",
       "      <td>p4</td>\n",
       "      <td>l1</td>\n",
       "      <td>nopc</td>\n",
       "      <td>nob/c</td>\n",
       "      <td>...</td>\n",
       "      <td>EXP</td>\n",
       "      <td>587</td>\n",
       "      <td>CIB</td>\n",
       "      <td>45-54</td>\n",
       "      <td>not_inst</td>\n",
       "      <td>69.376900</td>\n",
       "      <td>North</td>\n",
       "      <td>direct</td>\n",
       "      <td>0</td>\n",
       "      <td>42.0</td>\n",
       "    </tr>\n",
       "    <tr>\n",
       "      <th>4</th>\n",
       "      <td>24894</td>\n",
       "      <td>2019</td>\n",
       "      <td>cf</td>\n",
       "      <td>Joint</td>\n",
       "      <td>pre</td>\n",
       "      <td>type1</td>\n",
       "      <td>p1</td>\n",
       "      <td>l1</td>\n",
       "      <td>nopc</td>\n",
       "      <td>nob/c</td>\n",
       "      <td>...</td>\n",
       "      <td>CRIF</td>\n",
       "      <td>602</td>\n",
       "      <td>EXP</td>\n",
       "      <td>25-34</td>\n",
       "      <td>not_inst</td>\n",
       "      <td>91.886544</td>\n",
       "      <td>North</td>\n",
       "      <td>direct</td>\n",
       "      <td>0</td>\n",
       "      <td>39.0</td>\n",
       "    </tr>\n",
       "  </tbody>\n",
       "</table>\n",
       "<p>5 rows × 34 columns</p>\n",
       "</div>"
      ],
      "text/plain": [
       "      ID  year loan_limit             Gender approv_in_adv loan_type  \\\n",
       "0  24890  2019         cf  Sex Not Available         nopre     type1   \n",
       "1  24891  2019         cf               Male         nopre     type2   \n",
       "2  24892  2019         cf               Male           pre     type1   \n",
       "3  24893  2019         cf               Male         nopre     type1   \n",
       "4  24894  2019         cf              Joint           pre     type1   \n",
       "\n",
       "  loan_purpose Credit_Worthiness open_credit business_or_commercial  ...  \\\n",
       "0           p1                l1        nopc                  nob/c  ...   \n",
       "1           p1                l1        nopc                    b/c  ...   \n",
       "2           p1                l1        nopc                  nob/c  ...   \n",
       "3           p4                l1        nopc                  nob/c  ...   \n",
       "4           p1                l1        nopc                  nob/c  ...   \n",
       "\n",
       "   credit_type  Credit_Score  co-applicant_credit_type    age  \\\n",
       "0          EXP           758                       CIB  25-34   \n",
       "1         EQUI           552                       EXP  55-64   \n",
       "2          EXP           834                       CIB  35-44   \n",
       "3          EXP           587                       CIB  45-54   \n",
       "4         CRIF           602                       EXP  25-34   \n",
       "\n",
       "   submission_of_application        LTV Region Security_Type  Status dtir1  \n",
       "0                    to_inst  98.728814  south        direct       1  45.0  \n",
       "1                    to_inst        NaN  North        direct       1   NaN  \n",
       "2                    to_inst  80.019685  south        direct       0  46.0  \n",
       "3                   not_inst  69.376900  North        direct       0  42.0  \n",
       "4                   not_inst  91.886544  North        direct       0  39.0  \n",
       "\n",
       "[5 rows x 34 columns]"
      ]
     },
     "execution_count": 18,
     "metadata": {},
     "output_type": "execute_result"
    }
   ],
   "source": [
    "data.head()"
   ]
  },
  {
   "cell_type": "code",
   "execution_count": 19,
   "id": "33f653e2-789d-44d2-8724-4bf6a2d91875",
   "metadata": {},
   "outputs": [
    {
     "data": {
      "text/html": [
       "<div>\n",
       "<style scoped>\n",
       "    .dataframe tbody tr th:only-of-type {\n",
       "        vertical-align: middle;\n",
       "    }\n",
       "\n",
       "    .dataframe tbody tr th {\n",
       "        vertical-align: top;\n",
       "    }\n",
       "\n",
       "    .dataframe thead th {\n",
       "        text-align: right;\n",
       "    }\n",
       "</style>\n",
       "<table border=\"1\" class=\"dataframe\">\n",
       "  <thead>\n",
       "    <tr style=\"text-align: right;\">\n",
       "      <th></th>\n",
       "      <th>ID</th>\n",
       "      <th>year</th>\n",
       "      <th>loan_amount</th>\n",
       "      <th>rate_of_interest</th>\n",
       "      <th>Interest_rate_spread</th>\n",
       "      <th>Upfront_charges</th>\n",
       "      <th>term</th>\n",
       "      <th>property_value</th>\n",
       "      <th>income</th>\n",
       "      <th>Credit_Score</th>\n",
       "      <th>LTV</th>\n",
       "      <th>Status</th>\n",
       "      <th>dtir1</th>\n",
       "    </tr>\n",
       "  </thead>\n",
       "  <tbody>\n",
       "    <tr>\n",
       "      <th>count</th>\n",
       "      <td>148670.000000</td>\n",
       "      <td>148670.0</td>\n",
       "      <td>1.486700e+05</td>\n",
       "      <td>112231.000000</td>\n",
       "      <td>112031.000000</td>\n",
       "      <td>109028.000000</td>\n",
       "      <td>148629.000000</td>\n",
       "      <td>1.335720e+05</td>\n",
       "      <td>139520.000000</td>\n",
       "      <td>148670.000000</td>\n",
       "      <td>133572.000000</td>\n",
       "      <td>148670.000000</td>\n",
       "      <td>124549.000000</td>\n",
       "    </tr>\n",
       "    <tr>\n",
       "      <th>mean</th>\n",
       "      <td>99224.500000</td>\n",
       "      <td>2019.0</td>\n",
       "      <td>3.311177e+05</td>\n",
       "      <td>4.045476</td>\n",
       "      <td>0.441656</td>\n",
       "      <td>3224.996127</td>\n",
       "      <td>335.136582</td>\n",
       "      <td>4.978935e+05</td>\n",
       "      <td>6957.338876</td>\n",
       "      <td>699.789103</td>\n",
       "      <td>72.746457</td>\n",
       "      <td>0.246445</td>\n",
       "      <td>37.732932</td>\n",
       "    </tr>\n",
       "    <tr>\n",
       "      <th>std</th>\n",
       "      <td>42917.476598</td>\n",
       "      <td>0.0</td>\n",
       "      <td>1.839093e+05</td>\n",
       "      <td>0.561391</td>\n",
       "      <td>0.513043</td>\n",
       "      <td>3251.121510</td>\n",
       "      <td>58.409084</td>\n",
       "      <td>3.599353e+05</td>\n",
       "      <td>6496.586382</td>\n",
       "      <td>115.875857</td>\n",
       "      <td>39.967603</td>\n",
       "      <td>0.430942</td>\n",
       "      <td>10.545435</td>\n",
       "    </tr>\n",
       "    <tr>\n",
       "      <th>min</th>\n",
       "      <td>24890.000000</td>\n",
       "      <td>2019.0</td>\n",
       "      <td>1.650000e+04</td>\n",
       "      <td>0.000000</td>\n",
       "      <td>-3.638000</td>\n",
       "      <td>0.000000</td>\n",
       "      <td>96.000000</td>\n",
       "      <td>8.000000e+03</td>\n",
       "      <td>0.000000</td>\n",
       "      <td>500.000000</td>\n",
       "      <td>0.967478</td>\n",
       "      <td>0.000000</td>\n",
       "      <td>5.000000</td>\n",
       "    </tr>\n",
       "    <tr>\n",
       "      <th>25%</th>\n",
       "      <td>62057.250000</td>\n",
       "      <td>2019.0</td>\n",
       "      <td>1.965000e+05</td>\n",
       "      <td>3.625000</td>\n",
       "      <td>0.076000</td>\n",
       "      <td>581.490000</td>\n",
       "      <td>360.000000</td>\n",
       "      <td>2.680000e+05</td>\n",
       "      <td>3720.000000</td>\n",
       "      <td>599.000000</td>\n",
       "      <td>60.474860</td>\n",
       "      <td>0.000000</td>\n",
       "      <td>31.000000</td>\n",
       "    </tr>\n",
       "    <tr>\n",
       "      <th>50%</th>\n",
       "      <td>99224.500000</td>\n",
       "      <td>2019.0</td>\n",
       "      <td>2.965000e+05</td>\n",
       "      <td>3.990000</td>\n",
       "      <td>0.390400</td>\n",
       "      <td>2596.450000</td>\n",
       "      <td>360.000000</td>\n",
       "      <td>4.180000e+05</td>\n",
       "      <td>5760.000000</td>\n",
       "      <td>699.000000</td>\n",
       "      <td>75.135870</td>\n",
       "      <td>0.000000</td>\n",
       "      <td>39.000000</td>\n",
       "    </tr>\n",
       "    <tr>\n",
       "      <th>75%</th>\n",
       "      <td>136391.750000</td>\n",
       "      <td>2019.0</td>\n",
       "      <td>4.365000e+05</td>\n",
       "      <td>4.375000</td>\n",
       "      <td>0.775400</td>\n",
       "      <td>4812.500000</td>\n",
       "      <td>360.000000</td>\n",
       "      <td>6.280000e+05</td>\n",
       "      <td>8520.000000</td>\n",
       "      <td>800.000000</td>\n",
       "      <td>86.184211</td>\n",
       "      <td>0.000000</td>\n",
       "      <td>45.000000</td>\n",
       "    </tr>\n",
       "    <tr>\n",
       "      <th>max</th>\n",
       "      <td>173559.000000</td>\n",
       "      <td>2019.0</td>\n",
       "      <td>3.576500e+06</td>\n",
       "      <td>8.000000</td>\n",
       "      <td>3.357000</td>\n",
       "      <td>60000.000000</td>\n",
       "      <td>360.000000</td>\n",
       "      <td>1.650800e+07</td>\n",
       "      <td>578580.000000</td>\n",
       "      <td>900.000000</td>\n",
       "      <td>7831.250000</td>\n",
       "      <td>1.000000</td>\n",
       "      <td>61.000000</td>\n",
       "    </tr>\n",
       "  </tbody>\n",
       "</table>\n",
       "</div>"
      ],
      "text/plain": [
       "                  ID      year   loan_amount  rate_of_interest  \\\n",
       "count  148670.000000  148670.0  1.486700e+05     112231.000000   \n",
       "mean    99224.500000    2019.0  3.311177e+05          4.045476   \n",
       "std     42917.476598       0.0  1.839093e+05          0.561391   \n",
       "min     24890.000000    2019.0  1.650000e+04          0.000000   \n",
       "25%     62057.250000    2019.0  1.965000e+05          3.625000   \n",
       "50%     99224.500000    2019.0  2.965000e+05          3.990000   \n",
       "75%    136391.750000    2019.0  4.365000e+05          4.375000   \n",
       "max    173559.000000    2019.0  3.576500e+06          8.000000   \n",
       "\n",
       "       Interest_rate_spread  Upfront_charges           term  property_value  \\\n",
       "count         112031.000000    109028.000000  148629.000000    1.335720e+05   \n",
       "mean               0.441656      3224.996127     335.136582    4.978935e+05   \n",
       "std                0.513043      3251.121510      58.409084    3.599353e+05   \n",
       "min               -3.638000         0.000000      96.000000    8.000000e+03   \n",
       "25%                0.076000       581.490000     360.000000    2.680000e+05   \n",
       "50%                0.390400      2596.450000     360.000000    4.180000e+05   \n",
       "75%                0.775400      4812.500000     360.000000    6.280000e+05   \n",
       "max                3.357000     60000.000000     360.000000    1.650800e+07   \n",
       "\n",
       "              income   Credit_Score            LTV         Status  \\\n",
       "count  139520.000000  148670.000000  133572.000000  148670.000000   \n",
       "mean     6957.338876     699.789103      72.746457       0.246445   \n",
       "std      6496.586382     115.875857      39.967603       0.430942   \n",
       "min         0.000000     500.000000       0.967478       0.000000   \n",
       "25%      3720.000000     599.000000      60.474860       0.000000   \n",
       "50%      5760.000000     699.000000      75.135870       0.000000   \n",
       "75%      8520.000000     800.000000      86.184211       0.000000   \n",
       "max    578580.000000     900.000000    7831.250000       1.000000   \n",
       "\n",
       "               dtir1  \n",
       "count  124549.000000  \n",
       "mean       37.732932  \n",
       "std        10.545435  \n",
       "min         5.000000  \n",
       "25%        31.000000  \n",
       "50%        39.000000  \n",
       "75%        45.000000  \n",
       "max        61.000000  "
      ]
     },
     "execution_count": 19,
     "metadata": {},
     "output_type": "execute_result"
    }
   ],
   "source": [
    "data.describe(include = \"number\")"
   ]
  },
  {
   "cell_type": "code",
   "execution_count": 20,
   "id": "8feba4ac-5fa0-47f5-a22d-8b829c7190f5",
   "metadata": {},
   "outputs": [
    {
     "name": "stdout",
     "output_type": "stream",
     "text": [
      "<class 'pandas.core.frame.DataFrame'>\n",
      "RangeIndex: 148670 entries, 0 to 148669\n",
      "Data columns (total 34 columns):\n",
      " #   Column                     Non-Null Count   Dtype  \n",
      "---  ------                     --------------   -----  \n",
      " 0   ID                         148670 non-null  int64  \n",
      " 1   year                       148670 non-null  int64  \n",
      " 2   loan_limit                 145326 non-null  object \n",
      " 3   Gender                     148670 non-null  object \n",
      " 4   approv_in_adv              147762 non-null  object \n",
      " 5   loan_type                  148670 non-null  object \n",
      " 6   loan_purpose               148536 non-null  object \n",
      " 7   Credit_Worthiness          148670 non-null  object \n",
      " 8   open_credit                148670 non-null  object \n",
      " 9   business_or_commercial     148670 non-null  object \n",
      " 10  loan_amount                148670 non-null  int64  \n",
      " 11  rate_of_interest           112231 non-null  float64\n",
      " 12  Interest_rate_spread       112031 non-null  float64\n",
      " 13  Upfront_charges            109028 non-null  float64\n",
      " 14  term                       148629 non-null  float64\n",
      " 15  Neg_ammortization          148549 non-null  object \n",
      " 16  interest_only              148670 non-null  object \n",
      " 17  lump_sum_payment           148670 non-null  object \n",
      " 18  property_value             133572 non-null  float64\n",
      " 19  construction_type          148670 non-null  object \n",
      " 20  occupancy_type             148670 non-null  object \n",
      " 21  Secured_by                 148670 non-null  object \n",
      " 22  total_units                148670 non-null  object \n",
      " 23  income                     139520 non-null  float64\n",
      " 24  credit_type                148670 non-null  object \n",
      " 25  Credit_Score               148670 non-null  int64  \n",
      " 26  co-applicant_credit_type   148670 non-null  object \n",
      " 27  age                        148470 non-null  object \n",
      " 28  submission_of_application  148470 non-null  object \n",
      " 29  LTV                        133572 non-null  float64\n",
      " 30  Region                     148670 non-null  object \n",
      " 31  Security_Type              148670 non-null  object \n",
      " 32  Status                     148670 non-null  int64  \n",
      " 33  dtir1                      124549 non-null  float64\n",
      "dtypes: float64(8), int64(5), object(21)\n",
      "memory usage: 38.6+ MB\n"
     ]
    }
   ],
   "source": [
    "data.info()"
   ]
  },
  {
   "cell_type": "code",
   "execution_count": 21,
   "id": "6ae4e207-e534-485f-aa56-bb69308e86c2",
   "metadata": {},
   "outputs": [
    {
     "data": {
      "text/plain": [
       "ID                               0\n",
       "year                             0\n",
       "loan_limit                    3344\n",
       "Gender                           0\n",
       "approv_in_adv                  908\n",
       "loan_type                        0\n",
       "loan_purpose                   134\n",
       "Credit_Worthiness                0\n",
       "open_credit                      0\n",
       "business_or_commercial           0\n",
       "loan_amount                      0\n",
       "rate_of_interest             36439\n",
       "Interest_rate_spread         36639\n",
       "Upfront_charges              39642\n",
       "term                            41\n",
       "Neg_ammortization              121\n",
       "interest_only                    0\n",
       "lump_sum_payment                 0\n",
       "property_value               15098\n",
       "construction_type                0\n",
       "occupancy_type                   0\n",
       "Secured_by                       0\n",
       "total_units                      0\n",
       "income                        9150\n",
       "credit_type                      0\n",
       "Credit_Score                     0\n",
       "co-applicant_credit_type         0\n",
       "age                            200\n",
       "submission_of_application      200\n",
       "LTV                          15098\n",
       "Region                           0\n",
       "Security_Type                    0\n",
       "Status                           0\n",
       "dtir1                        24121\n",
       "dtype: int64"
      ]
     },
     "execution_count": 21,
     "metadata": {},
     "output_type": "execute_result"
    }
   ],
   "source": [
    "data.isnull().sum()"
   ]
  },
  {
   "cell_type": "code",
   "execution_count": 22,
   "id": "5c8849ad-3a09-4a98-8008-d4ad3acae04f",
   "metadata": {},
   "outputs": [
    {
     "data": {
      "text/plain": [
       "ID                           148670\n",
       "year                              1\n",
       "loan_limit                        2\n",
       "Gender                            4\n",
       "approv_in_adv                     2\n",
       "loan_type                         3\n",
       "loan_purpose                      4\n",
       "Credit_Worthiness                 2\n",
       "open_credit                       2\n",
       "business_or_commercial            2\n",
       "loan_amount                     211\n",
       "rate_of_interest                131\n",
       "Interest_rate_spread          22516\n",
       "Upfront_charges               58271\n",
       "term                             26\n",
       "Neg_ammortization                 2\n",
       "interest_only                     2\n",
       "lump_sum_payment                  2\n",
       "property_value                  385\n",
       "construction_type                 2\n",
       "occupancy_type                    3\n",
       "Secured_by                        2\n",
       "total_units                       4\n",
       "income                         1001\n",
       "credit_type                       4\n",
       "Credit_Score                    401\n",
       "co-applicant_credit_type          2\n",
       "age                               7\n",
       "submission_of_application         2\n",
       "LTV                            8484\n",
       "Region                            4\n",
       "Security_Type                     2\n",
       "Status                            2\n",
       "dtir1                            57\n",
       "dtype: int64"
      ]
     },
     "execution_count": 22,
     "metadata": {},
     "output_type": "execute_result"
    }
   ],
   "source": [
    "data.nunique()"
   ]
  },
  {
   "cell_type": "markdown",
   "id": "dfdf28a4-c57c-4959-b08c-d6a5e1b683e7",
   "metadata": {},
   "source": [
    "### Boxplots"
   ]
  },
  {
   "cell_type": "code",
   "execution_count": 23,
   "id": "aefb7ee9-8fc1-4212-9e69-de2845242392",
   "metadata": {},
   "outputs": [
    {
     "data": {
      "text/plain": [
       "<AxesSubplot:xlabel='Status', ylabel='Upfront_charges'>"
      ]
     },
     "execution_count": 23,
     "metadata": {},
     "output_type": "execute_result"
    },
    {
     "data": {
      "image/png": "[encoded data removed]",
      "text/plain": [
       "<Figure size 432x288 with 1 Axes>"
      ]
     },
     "metadata": {
      "needs_background": "light"
     },
     "output_type": "display_data"
    }
   ],
   "source": [
    "sns.boxplot(x =\"Status\", y = 'Upfront_charges',hue = 'Status', data = data)"
   ]
  },
  {
   "cell_type": "code",
   "execution_count": 24,
   "id": "ff46e881-dd47-4926-a39c-caec9502e5b4",
   "metadata": {},
   "outputs": [
    {
     "data": {
      "text/plain": [
       "<AxesSubplot:xlabel='income', ylabel='Count'>"
      ]
     },
     "execution_count": 24,
     "metadata": {},
     "output_type": "execute_result"
    },
    {
     "data": {
      "image/png": "[encoded data removed]",
      "text/plain": [
       "<Figure size 432x288 with 1 Axes>"
      ]
     },
     "metadata": {
      "needs_background": "light"
     },
     "output_type": "display_data"
    }
   ],
   "source": [
    "sns.histplot(data=data, x = 'income',hue = 'Status', bins = 50, binrange = (0,100000))"
   ]
  },
  {
   "cell_type": "code",
   "execution_count": 25,
   "id": "07d1ba20-fcdb-48d1-b2fe-30af4da1393d",
   "metadata": {},
   "outputs": [
    {
     "data": {
      "text/plain": [
       "<AxesSubplot:xlabel='LTV', ylabel='Count'>"
      ]
     },
     "execution_count": 25,
     "metadata": {},
     "output_type": "execute_result"
    },
    {
     "data": {
      "image/png": "[encoded data removed]",
      "text/plain": [
       "<Figure size 432x288 with 1 Axes>"
      ]
     },
     "metadata": {
      "needs_background": "light"
     },
     "output_type": "display_data"
    }
   ],
   "source": [
    "sns.histplot(data=data, x = 'LTV',hue = 'Status', bins = 50, binrange = (0,250))"
   ]
  },
  {
   "cell_type": "code",
   "execution_count": 26,
   "id": "d9f4e00c-4689-444c-a787-d225abcce239",
   "metadata": {},
   "outputs": [
    {
     "data": {
      "text/plain": [
       "<AxesSubplot:xlabel='credit_type', ylabel='Count'>"
      ]
     },
     "execution_count": 26,
     "metadata": {},
     "output_type": "execute_result"
    },
    {
     "data": {
      "image/png": "[encoded data removed]",
      "text/plain": [
       "<Figure size 432x288 with 1 Axes>"
      ]
     },
     "metadata": {
      "needs_background": "light"
     },
     "output_type": "display_data"
    }
   ],
   "source": [
    "sns.histplot(data=data, x = 'credit_type',hue = 'Status', bins = 30)"
   ]
  },
  {
   "cell_type": "code",
   "execution_count": 27,
   "id": "1dab2cb9-2b50-410a-8f60-1deff106e88b",
   "metadata": {},
   "outputs": [
    {
     "data": {
      "text/plain": [
       "array(['Sex Not Available', 'Male', 'Joint', 'Female'], dtype=object)"
      ]
     },
     "execution_count": 27,
     "metadata": {},
     "output_type": "execute_result"
    }
   ],
   "source": [
    "data['Gender'].unique()"
   ]
  },
  {
   "cell_type": "code",
   "execution_count": 28,
   "id": "1eef9beb-ddb7-45dd-a237-5b494c8f723b",
   "metadata": {},
   "outputs": [],
   "source": [
    "data[\"Gender\"].replace(\"Sex Not Available\", np.NaN, inplace = True)"
   ]
  },
  {
   "cell_type": "code",
   "execution_count": 29,
   "id": "94e6c9a2-dad0-40b8-9884-8e9c84263e13",
   "metadata": {},
   "outputs": [
    {
     "data": {
      "text/plain": [
       "array(['nopre', 'pre', nan], dtype=object)"
      ]
     },
     "execution_count": 29,
     "metadata": {},
     "output_type": "execute_result"
    }
   ],
   "source": [
    "data['approv_in_adv'].unique()"
   ]
  },
  {
   "cell_type": "code",
   "execution_count": 30,
   "id": "3e3f1faf-6054-4381-be96-7c1886fdf4a9",
   "metadata": {},
   "outputs": [
    {
     "data": {
      "text/plain": [
       "array(['type1', 'type2', 'type3'], dtype=object)"
      ]
     },
     "execution_count": 30,
     "metadata": {},
     "output_type": "execute_result"
    }
   ],
   "source": [
    "data['loan_type'].unique()"
   ]
  },
  {
   "cell_type": "code",
   "execution_count": 31,
   "id": "439a7083-632f-40ec-8508-b745318bf222",
   "metadata": {},
   "outputs": [
    {
     "data": {
      "text/plain": [
       "array(['p1', 'p4', 'p3', 'p2', nan], dtype=object)"
      ]
     },
     "execution_count": 31,
     "metadata": {},
     "output_type": "execute_result"
    }
   ],
   "source": [
    "data['loan_purpose'].unique()"
   ]
  },
  {
   "cell_type": "code",
   "execution_count": 32,
   "id": "a92e9f38-d6fd-4ed8-bbe1-29e46394e9a6",
   "metadata": {},
   "outputs": [
    {
     "data": {
      "text/plain": [
       "array(['25-34', '55-64', '35-44', '45-54', '65-74', '>74', '<25', nan],\n",
       "      dtype=object)"
      ]
     },
     "execution_count": 32,
     "metadata": {},
     "output_type": "execute_result"
    }
   ],
   "source": [
    "data[\"age\"].unique()"
   ]
  },
  {
   "cell_type": "code",
   "execution_count": 33,
   "id": "9dba14cf-985b-49ec-b4ce-838964ba1abf",
   "metadata": {},
   "outputs": [
    {
     "data": {
      "text/plain": [
       "array(['south', 'North', 'central', 'North-East'], dtype=object)"
      ]
     },
     "execution_count": 33,
     "metadata": {},
     "output_type": "execute_result"
    }
   ],
   "source": [
    "data[\"Region\"].unique()"
   ]
  },
  {
   "cell_type": "code",
   "execution_count": 34,
   "id": "1508036c-394c-4901-a82c-18723e2cb33c",
   "metadata": {},
   "outputs": [
    {
     "data": {
      "text/plain": [
       "array(['1U', '2U', '3U', '4U'], dtype=object)"
      ]
     },
     "execution_count": 34,
     "metadata": {},
     "output_type": "execute_result"
    }
   ],
   "source": [
    "data[\"total_units\"].unique()"
   ]
  },
  {
   "cell_type": "code",
   "execution_count": 35,
   "id": "aedff8fd-80f7-48ce-a4f1-dff5292b9b7a",
   "metadata": {},
   "outputs": [
    {
     "data": {
      "text/plain": [
       "array([ 98.72881356,          nan,  80.01968504, ..., 151.8145161 ,\n",
       "        41.49550706,  32.80201342])"
      ]
     },
     "execution_count": 35,
     "metadata": {},
     "output_type": "execute_result"
    }
   ],
   "source": [
    "data[\"LTV\"].unique()"
   ]
  },
  {
   "cell_type": "code",
   "execution_count": 36,
   "id": "f9834325-b8d7-4fae-9d65-1b8590199bc4",
   "metadata": {},
   "outputs": [
    {
     "data": {
      "text/plain": [
       "array([360., 300., 180., 312., 144., 240., 348., 324., 120.,  96., 192.,\n",
       "       156., 228., 336., 288., 108., 276.,  nan, 132., 216., 168., 204.,\n",
       "       264., 252., 165., 280., 322.])"
      ]
     },
     "execution_count": 36,
     "metadata": {},
     "output_type": "execute_result"
    }
   ],
   "source": [
    "data[\"term\"].unique()"
   ]
  },
  {
   "cell_type": "code",
   "execution_count": 37,
   "id": "0ca9e76d-d19a-4264-9c11-6f1586329557",
   "metadata": {},
   "outputs": [
    {
     "data": {
      "text/plain": [
       "<AxesSubplot:>"
      ]
     },
     "execution_count": 37,
     "metadata": {},
     "output_type": "execute_result"
    },
    {
     "data": {
      "image/png": "[encoded data removed]",
      "text/plain": [
       "<Figure size 1800x720 with 2 Axes>"
      ]
     },
     "metadata": {
      "needs_background": "light"
     },
     "output_type": "display_data"
    }
   ],
   "source": [
    "msno.matrix(data, labels=True, sort = \"descending\")"
   ]
  },
  {
   "cell_type": "code",
   "execution_count": 38,
   "id": "f1286c96-bece-408d-a322-a217713643d7",
   "metadata": {},
   "outputs": [],
   "source": [
    "#msno.matrix(data_comp, labels=True, sort = \"descending\")"
   ]
  },
  {
   "cell_type": "code",
   "execution_count": 39,
   "id": "7484abe3-043a-4e49-87f1-ace54d2e3e1a",
   "metadata": {},
   "outputs": [],
   "source": [
    "data.drop([\"ID\",\"year\"], axis =1, inplace = True)"
   ]
  },
  {
   "cell_type": "code",
   "execution_count": 40,
   "id": "fdbf19a8-1295-4b27-8cc4-0686019d5723",
   "metadata": {},
   "outputs": [],
   "source": [
    "# sns.pairplot(data, hue = 'Status')"
   ]
  },
  {
   "cell_type": "code",
   "execution_count": 41,
   "id": "89a8d3b9-7241-467f-97e1-c6f91b0ce25b",
   "metadata": {},
   "outputs": [],
   "source": [
    "#sns.pairplot(data_num)"
   ]
  },
  {
   "cell_type": "code",
   "execution_count": 42,
   "id": "f3cf5480-cc8b-427d-bc09-73f622bc35e1",
   "metadata": {},
   "outputs": [
    {
     "data": {
      "image/png": "[encoded data removed]",
      "text/plain": [
       "<Figure size 432x288 with 1 Axes>"
      ]
     },
     "metadata": {
      "needs_background": "light"
     },
     "output_type": "display_data"
    }
   ],
   "source": [
    "roi_original = plt.hist(data[\"rate_of_interest\"],50)"
   ]
  },
  {
   "cell_type": "code",
   "execution_count": 43,
   "id": "c1319ef8-2f72-4925-b9b2-8f6b5600ff2b",
   "metadata": {},
   "outputs": [
    {
     "data": {
      "image/png": "[encoded data removed]",
      "text/plain": [
       "<Figure size 432x288 with 1 Axes>"
      ]
     },
     "metadata": {
      "needs_background": "light"
     },
     "output_type": "display_data"
    }
   ],
   "source": [
    "irs_original = plt.hist(data[\"Interest_rate_spread\"],50)"
   ]
  },
  {
   "cell_type": "code",
   "execution_count": 44,
   "id": "e617a0a0-fe3e-4845-bd5b-b33ef309da5b",
   "metadata": {},
   "outputs": [
    {
     "data": {
      "image/png": "[encoded data removed]",
      "text/plain": [
       "<Figure size 432x288 with 1 Axes>"
      ]
     },
     "metadata": {
      "needs_background": "light"
     },
     "output_type": "display_data"
    }
   ],
   "source": [
    "ufc_original = plt.hist(data['Upfront_charges'],50)"
   ]
  },
  {
   "cell_type": "markdown",
   "id": "53a3fbb3-c15f-4e62-9fd4-5c238098ec7f",
   "metadata": {},
   "source": [
    "#### converting object columns to categorical "
   ]
  },
  {
   "cell_type": "code",
   "execution_count": 45,
   "id": "2dbd46de-6a6f-4c73-8aa0-a080501cf0e5",
   "metadata": {},
   "outputs": [],
   "source": [
    "for column in data.columns:\n",
    "    if data[column].dtype == 'object':\n",
    "        data[column] = data[column].astype(\"category\")"
   ]
  },
  {
   "cell_type": "markdown",
   "id": "7cfe8275-ffcc-403d-91b9-e84096057464",
   "metadata": {},
   "source": [
    "### Data Imputation using Miceforest"
   ]
  },
  {
   "cell_type": "code",
   "execution_count": 46,
   "id": "7a085f39-b08d-4471-a4d6-6fa61306a8d9",
   "metadata": {},
   "outputs": [],
   "source": [
    "kds = mf.ImputationKernel(\n",
    "data,\n",
    "datasets = 1,\n",
    "save_all_iterations = True,\n",
    "random_state =7040)\n",
    "\n",
    "kds.mice(2)"
   ]
  },
  {
   "cell_type": "code",
   "execution_count": 47,
   "id": "6f064242-303b-4f44-b2b2-1ac967b0f779",
   "metadata": {},
   "outputs": [],
   "source": [
    "data_comp = kds.complete_data(dataset=0, inplace =False)"
   ]
  },
  {
   "cell_type": "code",
   "execution_count": 48,
   "id": "ad3b5a24-0db8-493d-993a-92ef51faa678",
   "metadata": {},
   "outputs": [
    {
     "data": {
      "text/plain": [
       "loan_limit                   0\n",
       "Gender                       0\n",
       "approv_in_adv                0\n",
       "loan_type                    0\n",
       "loan_purpose                 0\n",
       "Credit_Worthiness            0\n",
       "open_credit                  0\n",
       "business_or_commercial       0\n",
       "loan_amount                  0\n",
       "rate_of_interest             0\n",
       "Interest_rate_spread         0\n",
       "Upfront_charges              0\n",
       "term                         0\n",
       "Neg_ammortization            0\n",
       "interest_only                0\n",
       "lump_sum_payment             0\n",
       "property_value               0\n",
       "construction_type            0\n",
       "occupancy_type               0\n",
       "Secured_by                   0\n",
       "total_units                  0\n",
       "income                       0\n",
       "credit_type                  0\n",
       "Credit_Score                 0\n",
       "co-applicant_credit_type     0\n",
       "age                          0\n",
       "submission_of_application    0\n",
       "LTV                          0\n",
       "Region                       0\n",
       "Security_Type                0\n",
       "Status                       0\n",
       "dtir1                        0\n",
       "dtype: int64"
      ]
     },
     "execution_count": 48,
     "metadata": {},
     "output_type": "execute_result"
    }
   ],
   "source": [
    "data_comp.isnull().sum()"
   ]
  },
  {
   "cell_type": "code",
   "execution_count": 49,
   "id": "c0ac63a8-45e1-411b-bd7d-c8f2b5071ede",
   "metadata": {},
   "outputs": [
    {
     "data": {
      "image/png": "[encoded data removed]",
      "text/plain": [
       "<Figure size 432x288 with 1 Axes>"
      ]
     },
     "metadata": {
      "needs_background": "light"
     },
     "output_type": "display_data"
    }
   ],
   "source": [
    "roi_comp = plt.hist(data_comp[\"rate_of_interest\"],50)"
   ]
  },
  {
   "cell_type": "code",
   "execution_count": 50,
   "id": "1009aa69-1761-4ecb-bc8e-76d120cc0fdc",
   "metadata": {},
   "outputs": [
    {
     "data": {
      "image/png": "[encoded data removed]",
      "text/plain": [
       "<Figure size 432x288 with 1 Axes>"
      ]
     },
     "metadata": {
      "needs_background": "light"
     },
     "output_type": "display_data"
    }
   ],
   "source": [
    "irs_comp= plt.hist(data_comp[\"Interest_rate_spread\"],50)"
   ]
  },
  {
   "cell_type": "code",
   "execution_count": 51,
   "id": "aad0e3fd-e31c-45f7-8f55-c0248b9802b5",
   "metadata": {},
   "outputs": [
    {
     "data": {
      "image/png": "[encoded data removed]",
      "text/plain": [
       "<Figure size 432x288 with 1 Axes>"
      ]
     },
     "metadata": {
      "needs_background": "light"
     },
     "output_type": "display_data"
    }
   ],
   "source": [
    "ufc_original = plt.hist(data_comp['Upfront_charges'],50)"
   ]
  },
  {
   "cell_type": "code",
   "execution_count": 52,
   "id": "b41fa8ca-a4a7-4eef-8113-8cd1fe7e551c",
   "metadata": {},
   "outputs": [
    {
     "data": {
      "text/html": [
       "<div>\n",
       "<style scoped>\n",
       "    .dataframe tbody tr th:only-of-type {\n",
       "        vertical-align: middle;\n",
       "    }\n",
       "\n",
       "    .dataframe tbody tr th {\n",
       "        vertical-align: top;\n",
       "    }\n",
       "\n",
       "    .dataframe thead th {\n",
       "        text-align: right;\n",
       "    }\n",
       "</style>\n",
       "<table border=\"1\" class=\"dataframe\">\n",
       "  <thead>\n",
       "    <tr style=\"text-align: right;\">\n",
       "      <th></th>\n",
       "      <th>loan_amount</th>\n",
       "      <th>rate_of_interest</th>\n",
       "      <th>Interest_rate_spread</th>\n",
       "      <th>Upfront_charges</th>\n",
       "      <th>term</th>\n",
       "      <th>property_value</th>\n",
       "      <th>income</th>\n",
       "      <th>Credit_Score</th>\n",
       "      <th>LTV</th>\n",
       "      <th>Status</th>\n",
       "      <th>dtir1</th>\n",
       "    </tr>\n",
       "  </thead>\n",
       "  <tbody>\n",
       "    <tr>\n",
       "      <th>count</th>\n",
       "      <td>1.486700e+05</td>\n",
       "      <td>148670.000000</td>\n",
       "      <td>148670.000000</td>\n",
       "      <td>148670.000000</td>\n",
       "      <td>148670.00000</td>\n",
       "      <td>1.486700e+05</td>\n",
       "      <td>148670.000000</td>\n",
       "      <td>148670.000000</td>\n",
       "      <td>148670.000000</td>\n",
       "      <td>148670.000000</td>\n",
       "      <td>148670.000000</td>\n",
       "    </tr>\n",
       "    <tr>\n",
       "      <th>mean</th>\n",
       "      <td>3.311177e+05</td>\n",
       "      <td>4.068505</td>\n",
       "      <td>0.474083</td>\n",
       "      <td>3292.708881</td>\n",
       "      <td>335.12100</td>\n",
       "      <td>4.978386e+05</td>\n",
       "      <td>6909.826327</td>\n",
       "      <td>699.789103</td>\n",
       "      <td>72.918520</td>\n",
       "      <td>0.246445</td>\n",
       "      <td>38.029273</td>\n",
       "    </tr>\n",
       "    <tr>\n",
       "      <th>std</th>\n",
       "      <td>1.839093e+05</td>\n",
       "      <td>0.558839</td>\n",
       "      <td>0.512598</td>\n",
       "      <td>3327.675433</td>\n",
       "      <td>58.42512</td>\n",
       "      <td>3.669623e+05</td>\n",
       "      <td>6368.317969</td>\n",
       "      <td>115.875857</td>\n",
       "      <td>38.363888</td>\n",
       "      <td>0.430942</td>\n",
       "      <td>10.751626</td>\n",
       "    </tr>\n",
       "    <tr>\n",
       "      <th>min</th>\n",
       "      <td>1.650000e+04</td>\n",
       "      <td>0.000000</td>\n",
       "      <td>-3.638000</td>\n",
       "      <td>0.000000</td>\n",
       "      <td>96.00000</td>\n",
       "      <td>8.000000e+03</td>\n",
       "      <td>0.000000</td>\n",
       "      <td>500.000000</td>\n",
       "      <td>0.967478</td>\n",
       "      <td>0.000000</td>\n",
       "      <td>5.000000</td>\n",
       "    </tr>\n",
       "    <tr>\n",
       "      <th>25%</th>\n",
       "      <td>1.965000e+05</td>\n",
       "      <td>3.625000</td>\n",
       "      <td>0.105025</td>\n",
       "      <td>650.000000</td>\n",
       "      <td>360.00000</td>\n",
       "      <td>2.680000e+05</td>\n",
       "      <td>3720.000000</td>\n",
       "      <td>599.000000</td>\n",
       "      <td>60.817308</td>\n",
       "      <td>0.000000</td>\n",
       "      <td>31.000000</td>\n",
       "    </tr>\n",
       "    <tr>\n",
       "      <th>50%</th>\n",
       "      <td>2.965000e+05</td>\n",
       "      <td>3.990000</td>\n",
       "      <td>0.421800</td>\n",
       "      <td>2668.990000</td>\n",
       "      <td>360.00000</td>\n",
       "      <td>4.180000e+05</td>\n",
       "      <td>5700.000000</td>\n",
       "      <td>699.000000</td>\n",
       "      <td>75.240385</td>\n",
       "      <td>0.000000</td>\n",
       "      <td>39.000000</td>\n",
       "    </tr>\n",
       "    <tr>\n",
       "      <th>75%</th>\n",
       "      <td>4.365000e+05</td>\n",
       "      <td>4.500000</td>\n",
       "      <td>0.816900</td>\n",
       "      <td>4849.880000</td>\n",
       "      <td>360.00000</td>\n",
       "      <td>6.180000e+05</td>\n",
       "      <td>8460.000000</td>\n",
       "      <td>800.000000</td>\n",
       "      <td>86.375661</td>\n",
       "      <td>0.000000</td>\n",
       "      <td>45.000000</td>\n",
       "    </tr>\n",
       "    <tr>\n",
       "      <th>max</th>\n",
       "      <td>3.576500e+06</td>\n",
       "      <td>8.000000</td>\n",
       "      <td>3.357000</td>\n",
       "      <td>60000.000000</td>\n",
       "      <td>360.00000</td>\n",
       "      <td>1.650800e+07</td>\n",
       "      <td>578580.000000</td>\n",
       "      <td>900.000000</td>\n",
       "      <td>7831.250000</td>\n",
       "      <td>1.000000</td>\n",
       "      <td>61.000000</td>\n",
       "    </tr>\n",
       "  </tbody>\n",
       "</table>\n",
       "</div>"
      ],
      "text/plain": [
       "        loan_amount  rate_of_interest  Interest_rate_spread  Upfront_charges  \\\n",
       "count  1.486700e+05     148670.000000         148670.000000    148670.000000   \n",
       "mean   3.311177e+05          4.068505              0.474083      3292.708881   \n",
       "std    1.839093e+05          0.558839              0.512598      3327.675433   \n",
       "min    1.650000e+04          0.000000             -3.638000         0.000000   \n",
       "25%    1.965000e+05          3.625000              0.105025       650.000000   \n",
       "50%    2.965000e+05          3.990000              0.421800      2668.990000   \n",
       "75%    4.365000e+05          4.500000              0.816900      4849.880000   \n",
       "max    3.576500e+06          8.000000              3.357000     60000.000000   \n",
       "\n",
       "               term  property_value         income   Credit_Score  \\\n",
       "count  148670.00000    1.486700e+05  148670.000000  148670.000000   \n",
       "mean      335.12100    4.978386e+05    6909.826327     699.789103   \n",
       "std        58.42512    3.669623e+05    6368.317969     115.875857   \n",
       "min        96.00000    8.000000e+03       0.000000     500.000000   \n",
       "25%       360.00000    2.680000e+05    3720.000000     599.000000   \n",
       "50%       360.00000    4.180000e+05    5700.000000     699.000000   \n",
       "75%       360.00000    6.180000e+05    8460.000000     800.000000   \n",
       "max       360.00000    1.650800e+07  578580.000000     900.000000   \n",
       "\n",
       "                 LTV         Status          dtir1  \n",
       "count  148670.000000  148670.000000  148670.000000  \n",
       "mean       72.918520       0.246445      38.029273  \n",
       "std        38.363888       0.430942      10.751626  \n",
       "min         0.967478       0.000000       5.000000  \n",
       "25%        60.817308       0.000000      31.000000  \n",
       "50%        75.240385       0.000000      39.000000  \n",
       "75%        86.375661       0.000000      45.000000  \n",
       "max      7831.250000       1.000000      61.000000  "
      ]
     },
     "execution_count": 52,
     "metadata": {},
     "output_type": "execute_result"
    }
   ],
   "source": [
    "data_comp.describe(include = \"number\")"
   ]
  },
  {
   "cell_type": "code",
   "execution_count": 53,
   "id": "2fac1af1-3eea-4476-bd28-960827f70a8c",
   "metadata": {},
   "outputs": [
    {
     "data": {
      "text/html": [
       "<div>\n",
       "<style scoped>\n",
       "    .dataframe tbody tr th:only-of-type {\n",
       "        vertical-align: middle;\n",
       "    }\n",
       "\n",
       "    .dataframe tbody tr th {\n",
       "        vertical-align: top;\n",
       "    }\n",
       "\n",
       "    .dataframe thead th {\n",
       "        text-align: right;\n",
       "    }\n",
       "</style>\n",
       "<table border=\"1\" class=\"dataframe\">\n",
       "  <thead>\n",
       "    <tr style=\"text-align: right;\">\n",
       "      <th></th>\n",
       "      <th>loan_amount</th>\n",
       "      <th>rate_of_interest</th>\n",
       "      <th>Interest_rate_spread</th>\n",
       "      <th>Upfront_charges</th>\n",
       "      <th>term</th>\n",
       "      <th>property_value</th>\n",
       "      <th>income</th>\n",
       "      <th>Credit_Score</th>\n",
       "      <th>LTV</th>\n",
       "      <th>Status</th>\n",
       "      <th>dtir1</th>\n",
       "    </tr>\n",
       "  </thead>\n",
       "  <tbody>\n",
       "    <tr>\n",
       "      <th>count</th>\n",
       "      <td>1.486700e+05</td>\n",
       "      <td>112231.000000</td>\n",
       "      <td>112031.000000</td>\n",
       "      <td>109028.000000</td>\n",
       "      <td>148629.000000</td>\n",
       "      <td>1.335720e+05</td>\n",
       "      <td>139520.000000</td>\n",
       "      <td>148670.000000</td>\n",
       "      <td>133572.000000</td>\n",
       "      <td>148670.000000</td>\n",
       "      <td>124549.000000</td>\n",
       "    </tr>\n",
       "    <tr>\n",
       "      <th>mean</th>\n",
       "      <td>3.311177e+05</td>\n",
       "      <td>4.045476</td>\n",
       "      <td>0.441656</td>\n",
       "      <td>3224.996127</td>\n",
       "      <td>335.136582</td>\n",
       "      <td>4.978935e+05</td>\n",
       "      <td>6957.338876</td>\n",
       "      <td>699.789103</td>\n",
       "      <td>72.746457</td>\n",
       "      <td>0.246445</td>\n",
       "      <td>37.732932</td>\n",
       "    </tr>\n",
       "    <tr>\n",
       "      <th>std</th>\n",
       "      <td>1.839093e+05</td>\n",
       "      <td>0.561391</td>\n",
       "      <td>0.513043</td>\n",
       "      <td>3251.121510</td>\n",
       "      <td>58.409084</td>\n",
       "      <td>3.599353e+05</td>\n",
       "      <td>6496.586382</td>\n",
       "      <td>115.875857</td>\n",
       "      <td>39.967603</td>\n",
       "      <td>0.430942</td>\n",
       "      <td>10.545435</td>\n",
       "    </tr>\n",
       "    <tr>\n",
       "      <th>min</th>\n",
       "      <td>1.650000e+04</td>\n",
       "      <td>0.000000</td>\n",
       "      <td>-3.638000</td>\n",
       "      <td>0.000000</td>\n",
       "      <td>96.000000</td>\n",
       "      <td>8.000000e+03</td>\n",
       "      <td>0.000000</td>\n",
       "      <td>500.000000</td>\n",
       "      <td>0.967478</td>\n",
       "      <td>0.000000</td>\n",
       "      <td>5.000000</td>\n",
       "    </tr>\n",
       "    <tr>\n",
       "      <th>25%</th>\n",
       "      <td>1.965000e+05</td>\n",
       "      <td>3.625000</td>\n",
       "      <td>0.076000</td>\n",
       "      <td>581.490000</td>\n",
       "      <td>360.000000</td>\n",
       "      <td>2.680000e+05</td>\n",
       "      <td>3720.000000</td>\n",
       "      <td>599.000000</td>\n",
       "      <td>60.474860</td>\n",
       "      <td>0.000000</td>\n",
       "      <td>31.000000</td>\n",
       "    </tr>\n",
       "    <tr>\n",
       "      <th>50%</th>\n",
       "      <td>2.965000e+05</td>\n",
       "      <td>3.990000</td>\n",
       "      <td>0.390400</td>\n",
       "      <td>2596.450000</td>\n",
       "      <td>360.000000</td>\n",
       "      <td>4.180000e+05</td>\n",
       "      <td>5760.000000</td>\n",
       "      <td>699.000000</td>\n",
       "      <td>75.135870</td>\n",
       "      <td>0.000000</td>\n",
       "      <td>39.000000</td>\n",
       "    </tr>\n",
       "    <tr>\n",
       "      <th>75%</th>\n",
       "      <td>4.365000e+05</td>\n",
       "      <td>4.375000</td>\n",
       "      <td>0.775400</td>\n",
       "      <td>4812.500000</td>\n",
       "      <td>360.000000</td>\n",
       "      <td>6.280000e+05</td>\n",
       "      <td>8520.000000</td>\n",
       "      <td>800.000000</td>\n",
       "      <td>86.184211</td>\n",
       "      <td>0.000000</td>\n",
       "      <td>45.000000</td>\n",
       "    </tr>\n",
       "    <tr>\n",
       "      <th>max</th>\n",
       "      <td>3.576500e+06</td>\n",
       "      <td>8.000000</td>\n",
       "      <td>3.357000</td>\n",
       "      <td>60000.000000</td>\n",
       "      <td>360.000000</td>\n",
       "      <td>1.650800e+07</td>\n",
       "      <td>578580.000000</td>\n",
       "      <td>900.000000</td>\n",
       "      <td>7831.250000</td>\n",
       "      <td>1.000000</td>\n",
       "      <td>61.000000</td>\n",
       "    </tr>\n",
       "  </tbody>\n",
       "</table>\n",
       "</div>"
      ],
      "text/plain": [
       "        loan_amount  rate_of_interest  Interest_rate_spread  Upfront_charges  \\\n",
       "count  1.486700e+05     112231.000000         112031.000000    109028.000000   \n",
       "mean   3.311177e+05          4.045476              0.441656      3224.996127   \n",
       "std    1.839093e+05          0.561391              0.513043      3251.121510   \n",
       "min    1.650000e+04          0.000000             -3.638000         0.000000   \n",
       "25%    1.965000e+05          3.625000              0.076000       581.490000   \n",
       "50%    2.965000e+05          3.990000              0.390400      2596.450000   \n",
       "75%    4.365000e+05          4.375000              0.775400      4812.500000   \n",
       "max    3.576500e+06          8.000000              3.357000     60000.000000   \n",
       "\n",
       "                term  property_value         income   Credit_Score  \\\n",
       "count  148629.000000    1.335720e+05  139520.000000  148670.000000   \n",
       "mean      335.136582    4.978935e+05    6957.338876     699.789103   \n",
       "std        58.409084    3.599353e+05    6496.586382     115.875857   \n",
       "min        96.000000    8.000000e+03       0.000000     500.000000   \n",
       "25%       360.000000    2.680000e+05    3720.000000     599.000000   \n",
       "50%       360.000000    4.180000e+05    5760.000000     699.000000   \n",
       "75%       360.000000    6.280000e+05    8520.000000     800.000000   \n",
       "max       360.000000    1.650800e+07  578580.000000     900.000000   \n",
       "\n",
       "                 LTV         Status          dtir1  \n",
       "count  133572.000000  148670.000000  124549.000000  \n",
       "mean       72.746457       0.246445      37.732932  \n",
       "std        39.967603       0.430942      10.545435  \n",
       "min         0.967478       0.000000       5.000000  \n",
       "25%        60.474860       0.000000      31.000000  \n",
       "50%        75.135870       0.000000      39.000000  \n",
       "75%        86.184211       0.000000      45.000000  \n",
       "max      7831.250000       1.000000      61.000000  "
      ]
     },
     "execution_count": 53,
     "metadata": {},
     "output_type": "execute_result"
    }
   ],
   "source": [
    "data.describe(include = \"number\")"
   ]
  },
  {
   "cell_type": "code",
   "execution_count": 54,
   "id": "4c19ce87-75c1-4134-9b13-86e8f3fd1822",
   "metadata": {},
   "outputs": [
    {
     "data": {
      "text/plain": [
       "Index(['loan_limit', 'Gender', 'approv_in_adv', 'loan_type', 'loan_purpose',\n",
       "       'Credit_Worthiness', 'open_credit', 'business_or_commercial',\n",
       "       'loan_amount', 'rate_of_interest', 'Interest_rate_spread',\n",
       "       'Upfront_charges', 'term', 'Neg_ammortization', 'interest_only',\n",
       "       'lump_sum_payment', 'property_value', 'construction_type',\n",
       "       'occupancy_type', 'Secured_by', 'total_units', 'income', 'credit_type',\n",
       "       'Credit_Score', 'co-applicant_credit_type', 'age',\n",
       "       'submission_of_application', 'LTV', 'Region', 'Security_Type', 'Status',\n",
       "       'dtir1'],\n",
       "      dtype='object')"
      ]
     },
     "execution_count": 54,
     "metadata": {},
     "output_type": "execute_result"
    }
   ],
   "source": [
    "data.columns"
   ]
  },
  {
   "cell_type": "markdown",
   "id": "f20fbe22-2981-4112-874d-0e90bb53cc55",
   "metadata": {},
   "source": [
    "### Feature Selection"
   ]
  },
  {
   "cell_type": "markdown",
   "id": "dc5501e0-79f9-4a55-9bce-f225ecee19c0",
   "metadata": {},
   "source": [
    "#### Transforming categorical data and running k best to find best features"
   ]
  },
  {
   "cell_type": "code",
   "execution_count": 55,
   "id": "78a20113-ddec-4b35-a49b-d7a44c2b2a19",
   "metadata": {},
   "outputs": [
    {
     "data": {
      "text/html": [
       "<div>\n",
       "<style scoped>\n",
       "    .dataframe tbody tr th:only-of-type {\n",
       "        vertical-align: middle;\n",
       "    }\n",
       "\n",
       "    .dataframe tbody tr th {\n",
       "        vertical-align: top;\n",
       "    }\n",
       "\n",
       "    .dataframe thead th {\n",
       "        text-align: right;\n",
       "    }\n",
       "</style>\n",
       "<table border=\"1\" class=\"dataframe\">\n",
       "  <thead>\n",
       "    <tr style=\"text-align: right;\">\n",
       "      <th></th>\n",
       "      <th>loan_limit</th>\n",
       "      <th>Gender</th>\n",
       "      <th>approv_in_adv</th>\n",
       "      <th>loan_type</th>\n",
       "      <th>loan_purpose</th>\n",
       "      <th>Credit_Worthiness</th>\n",
       "      <th>open_credit</th>\n",
       "      <th>business_or_commercial</th>\n",
       "      <th>loan_amount</th>\n",
       "      <th>rate_of_interest</th>\n",
       "      <th>...</th>\n",
       "      <th>credit_type</th>\n",
       "      <th>Credit_Score</th>\n",
       "      <th>co-applicant_credit_type</th>\n",
       "      <th>age</th>\n",
       "      <th>submission_of_application</th>\n",
       "      <th>LTV</th>\n",
       "      <th>Region</th>\n",
       "      <th>Security_Type</th>\n",
       "      <th>Status</th>\n",
       "      <th>dtir1</th>\n",
       "    </tr>\n",
       "  </thead>\n",
       "  <tbody>\n",
       "    <tr>\n",
       "      <th>0</th>\n",
       "      <td>cf</td>\n",
       "      <td>Female</td>\n",
       "      <td>nopre</td>\n",
       "      <td>type1</td>\n",
       "      <td>p1</td>\n",
       "      <td>l1</td>\n",
       "      <td>nopc</td>\n",
       "      <td>nob/c</td>\n",
       "      <td>116500</td>\n",
       "      <td>4.750</td>\n",
       "      <td>...</td>\n",
       "      <td>EXP</td>\n",
       "      <td>758</td>\n",
       "      <td>CIB</td>\n",
       "      <td>25-34</td>\n",
       "      <td>to_inst</td>\n",
       "      <td>98.728814</td>\n",
       "      <td>south</td>\n",
       "      <td>direct</td>\n",
       "      <td>1</td>\n",
       "      <td>45.0</td>\n",
       "    </tr>\n",
       "    <tr>\n",
       "      <th>1</th>\n",
       "      <td>cf</td>\n",
       "      <td>Male</td>\n",
       "      <td>nopre</td>\n",
       "      <td>type2</td>\n",
       "      <td>p1</td>\n",
       "      <td>l1</td>\n",
       "      <td>nopc</td>\n",
       "      <td>b/c</td>\n",
       "      <td>206500</td>\n",
       "      <td>4.375</td>\n",
       "      <td>...</td>\n",
       "      <td>EQUI</td>\n",
       "      <td>552</td>\n",
       "      <td>EXP</td>\n",
       "      <td>55-64</td>\n",
       "      <td>to_inst</td>\n",
       "      <td>75.568182</td>\n",
       "      <td>North</td>\n",
       "      <td>direct</td>\n",
       "      <td>1</td>\n",
       "      <td>27.0</td>\n",
       "    </tr>\n",
       "    <tr>\n",
       "      <th>2</th>\n",
       "      <td>cf</td>\n",
       "      <td>Male</td>\n",
       "      <td>pre</td>\n",
       "      <td>type1</td>\n",
       "      <td>p1</td>\n",
       "      <td>l1</td>\n",
       "      <td>nopc</td>\n",
       "      <td>nob/c</td>\n",
       "      <td>406500</td>\n",
       "      <td>4.560</td>\n",
       "      <td>...</td>\n",
       "      <td>EXP</td>\n",
       "      <td>834</td>\n",
       "      <td>CIB</td>\n",
       "      <td>35-44</td>\n",
       "      <td>to_inst</td>\n",
       "      <td>80.019685</td>\n",
       "      <td>south</td>\n",
       "      <td>direct</td>\n",
       "      <td>0</td>\n",
       "      <td>46.0</td>\n",
       "    </tr>\n",
       "    <tr>\n",
       "      <th>3</th>\n",
       "      <td>cf</td>\n",
       "      <td>Male</td>\n",
       "      <td>nopre</td>\n",
       "      <td>type1</td>\n",
       "      <td>p4</td>\n",
       "      <td>l1</td>\n",
       "      <td>nopc</td>\n",
       "      <td>nob/c</td>\n",
       "      <td>456500</td>\n",
       "      <td>4.250</td>\n",
       "      <td>...</td>\n",
       "      <td>EXP</td>\n",
       "      <td>587</td>\n",
       "      <td>CIB</td>\n",
       "      <td>45-54</td>\n",
       "      <td>not_inst</td>\n",
       "      <td>69.376900</td>\n",
       "      <td>North</td>\n",
       "      <td>direct</td>\n",
       "      <td>0</td>\n",
       "      <td>42.0</td>\n",
       "    </tr>\n",
       "    <tr>\n",
       "      <th>4</th>\n",
       "      <td>cf</td>\n",
       "      <td>Joint</td>\n",
       "      <td>pre</td>\n",
       "      <td>type1</td>\n",
       "      <td>p1</td>\n",
       "      <td>l1</td>\n",
       "      <td>nopc</td>\n",
       "      <td>nob/c</td>\n",
       "      <td>696500</td>\n",
       "      <td>4.000</td>\n",
       "      <td>...</td>\n",
       "      <td>CRIF</td>\n",
       "      <td>602</td>\n",
       "      <td>EXP</td>\n",
       "      <td>25-34</td>\n",
       "      <td>not_inst</td>\n",
       "      <td>91.886544</td>\n",
       "      <td>North</td>\n",
       "      <td>direct</td>\n",
       "      <td>0</td>\n",
       "      <td>39.0</td>\n",
       "    </tr>\n",
       "  </tbody>\n",
       "</table>\n",
       "<p>5 rows × 32 columns</p>\n",
       "</div>"
      ],
      "text/plain": [
       "  loan_limit  Gender approv_in_adv loan_type loan_purpose Credit_Worthiness  \\\n",
       "0         cf  Female         nopre     type1           p1                l1   \n",
       "1         cf    Male         nopre     type2           p1                l1   \n",
       "2         cf    Male           pre     type1           p1                l1   \n",
       "3         cf    Male         nopre     type1           p4                l1   \n",
       "4         cf   Joint           pre     type1           p1                l1   \n",
       "\n",
       "  open_credit business_or_commercial  loan_amount  rate_of_interest  ...  \\\n",
       "0        nopc                  nob/c       116500             4.750  ...   \n",
       "1        nopc                    b/c       206500             4.375  ...   \n",
       "2        nopc                  nob/c       406500             4.560  ...   \n",
       "3        nopc                  nob/c       456500             4.250  ...   \n",
       "4        nopc                  nob/c       696500             4.000  ...   \n",
       "\n",
       "   credit_type  Credit_Score  co-applicant_credit_type    age  \\\n",
       "0          EXP           758                       CIB  25-34   \n",
       "1         EQUI           552                       EXP  55-64   \n",
       "2          EXP           834                       CIB  35-44   \n",
       "3          EXP           587                       CIB  45-54   \n",
       "4         CRIF           602                       EXP  25-34   \n",
       "\n",
       "  submission_of_application        LTV  Region Security_Type Status dtir1  \n",
       "0                   to_inst  98.728814   south        direct      1  45.0  \n",
       "1                   to_inst  75.568182   North        direct      1  27.0  \n",
       "2                   to_inst  80.019685   south        direct      0  46.0  \n",
       "3                  not_inst  69.376900   North        direct      0  42.0  \n",
       "4                  not_inst  91.886544   North        direct      0  39.0  \n",
       "\n",
       "[5 rows x 32 columns]"
      ]
     },
     "execution_count": 55,
     "metadata": {},
     "output_type": "execute_result"
    }
   ],
   "source": [
    "data_comp.head()"
   ]
  },
  {
   "cell_type": "code",
   "execution_count": 56,
   "id": "9228776d-7b5b-4be7-b730-107bed76a4b1",
   "metadata": {},
   "outputs": [],
   "source": [
    "data_cat = data_comp.select_dtypes(include = 'category')"
   ]
  },
  {
   "cell_type": "code",
   "execution_count": 57,
   "id": "5a6ac9c5-f123-4264-8e55-ded751670666",
   "metadata": {},
   "outputs": [],
   "source": [
    "data_num = data_comp.select_dtypes(include = 'number')"
   ]
  },
  {
   "cell_type": "code",
   "execution_count": 58,
   "id": "78dfde48-f55e-4676-8842-f371d01a8182",
   "metadata": {},
   "outputs": [
    {
     "data": {
      "text/html": [
       "<div>\n",
       "<style scoped>\n",
       "    .dataframe tbody tr th:only-of-type {\n",
       "        vertical-align: middle;\n",
       "    }\n",
       "\n",
       "    .dataframe tbody tr th {\n",
       "        vertical-align: top;\n",
       "    }\n",
       "\n",
       "    .dataframe thead th {\n",
       "        text-align: right;\n",
       "    }\n",
       "</style>\n",
       "<table border=\"1\" class=\"dataframe\">\n",
       "  <thead>\n",
       "    <tr style=\"text-align: right;\">\n",
       "      <th></th>\n",
       "      <th>loan_limit</th>\n",
       "      <th>Gender</th>\n",
       "      <th>approv_in_adv</th>\n",
       "      <th>loan_type</th>\n",
       "      <th>loan_purpose</th>\n",
       "      <th>Credit_Worthiness</th>\n",
       "      <th>open_credit</th>\n",
       "      <th>business_or_commercial</th>\n",
       "      <th>Neg_ammortization</th>\n",
       "      <th>interest_only</th>\n",
       "      <th>...</th>\n",
       "      <th>construction_type</th>\n",
       "      <th>occupancy_type</th>\n",
       "      <th>Secured_by</th>\n",
       "      <th>total_units</th>\n",
       "      <th>credit_type</th>\n",
       "      <th>co-applicant_credit_type</th>\n",
       "      <th>age</th>\n",
       "      <th>submission_of_application</th>\n",
       "      <th>Region</th>\n",
       "      <th>Security_Type</th>\n",
       "    </tr>\n",
       "  </thead>\n",
       "  <tbody>\n",
       "    <tr>\n",
       "      <th>0</th>\n",
       "      <td>cf</td>\n",
       "      <td>Female</td>\n",
       "      <td>nopre</td>\n",
       "      <td>type1</td>\n",
       "      <td>p1</td>\n",
       "      <td>l1</td>\n",
       "      <td>nopc</td>\n",
       "      <td>nob/c</td>\n",
       "      <td>not_neg</td>\n",
       "      <td>not_int</td>\n",
       "      <td>...</td>\n",
       "      <td>sb</td>\n",
       "      <td>pr</td>\n",
       "      <td>home</td>\n",
       "      <td>1U</td>\n",
       "      <td>EXP</td>\n",
       "      <td>CIB</td>\n",
       "      <td>25-34</td>\n",
       "      <td>to_inst</td>\n",
       "      <td>south</td>\n",
       "      <td>direct</td>\n",
       "    </tr>\n",
       "    <tr>\n",
       "      <th>1</th>\n",
       "      <td>cf</td>\n",
       "      <td>Male</td>\n",
       "      <td>nopre</td>\n",
       "      <td>type2</td>\n",
       "      <td>p1</td>\n",
       "      <td>l1</td>\n",
       "      <td>nopc</td>\n",
       "      <td>b/c</td>\n",
       "      <td>not_neg</td>\n",
       "      <td>not_int</td>\n",
       "      <td>...</td>\n",
       "      <td>sb</td>\n",
       "      <td>pr</td>\n",
       "      <td>home</td>\n",
       "      <td>1U</td>\n",
       "      <td>EQUI</td>\n",
       "      <td>EXP</td>\n",
       "      <td>55-64</td>\n",
       "      <td>to_inst</td>\n",
       "      <td>North</td>\n",
       "      <td>direct</td>\n",
       "    </tr>\n",
       "    <tr>\n",
       "      <th>2</th>\n",
       "      <td>cf</td>\n",
       "      <td>Male</td>\n",
       "      <td>pre</td>\n",
       "      <td>type1</td>\n",
       "      <td>p1</td>\n",
       "      <td>l1</td>\n",
       "      <td>nopc</td>\n",
       "      <td>nob/c</td>\n",
       "      <td>neg_amm</td>\n",
       "      <td>not_int</td>\n",
       "      <td>...</td>\n",
       "      <td>sb</td>\n",
       "      <td>pr</td>\n",
       "      <td>home</td>\n",
       "      <td>1U</td>\n",
       "      <td>EXP</td>\n",
       "      <td>CIB</td>\n",
       "      <td>35-44</td>\n",
       "      <td>to_inst</td>\n",
       "      <td>south</td>\n",
       "      <td>direct</td>\n",
       "    </tr>\n",
       "    <tr>\n",
       "      <th>3</th>\n",
       "      <td>cf</td>\n",
       "      <td>Male</td>\n",
       "      <td>nopre</td>\n",
       "      <td>type1</td>\n",
       "      <td>p4</td>\n",
       "      <td>l1</td>\n",
       "      <td>nopc</td>\n",
       "      <td>nob/c</td>\n",
       "      <td>not_neg</td>\n",
       "      <td>not_int</td>\n",
       "      <td>...</td>\n",
       "      <td>sb</td>\n",
       "      <td>pr</td>\n",
       "      <td>home</td>\n",
       "      <td>1U</td>\n",
       "      <td>EXP</td>\n",
       "      <td>CIB</td>\n",
       "      <td>45-54</td>\n",
       "      <td>not_inst</td>\n",
       "      <td>North</td>\n",
       "      <td>direct</td>\n",
       "    </tr>\n",
       "    <tr>\n",
       "      <th>4</th>\n",
       "      <td>cf</td>\n",
       "      <td>Joint</td>\n",
       "      <td>pre</td>\n",
       "      <td>type1</td>\n",
       "      <td>p1</td>\n",
       "      <td>l1</td>\n",
       "      <td>nopc</td>\n",
       "      <td>nob/c</td>\n",
       "      <td>not_neg</td>\n",
       "      <td>not_int</td>\n",
       "      <td>...</td>\n",
       "      <td>sb</td>\n",
       "      <td>pr</td>\n",
       "      <td>home</td>\n",
       "      <td>1U</td>\n",
       "      <td>CRIF</td>\n",
       "      <td>EXP</td>\n",
       "      <td>25-34</td>\n",
       "      <td>not_inst</td>\n",
       "      <td>North</td>\n",
       "      <td>direct</td>\n",
       "    </tr>\n",
       "  </tbody>\n",
       "</table>\n",
       "<p>5 rows × 21 columns</p>\n",
       "</div>"
      ],
      "text/plain": [
       "  loan_limit  Gender approv_in_adv loan_type loan_purpose Credit_Worthiness  \\\n",
       "0         cf  Female         nopre     type1           p1                l1   \n",
       "1         cf    Male         nopre     type2           p1                l1   \n",
       "2         cf    Male           pre     type1           p1                l1   \n",
       "3         cf    Male         nopre     type1           p4                l1   \n",
       "4         cf   Joint           pre     type1           p1                l1   \n",
       "\n",
       "  open_credit business_or_commercial Neg_ammortization interest_only  ...  \\\n",
       "0        nopc                  nob/c           not_neg       not_int  ...   \n",
       "1        nopc                    b/c           not_neg       not_int  ...   \n",
       "2        nopc                  nob/c           neg_amm       not_int  ...   \n",
       "3        nopc                  nob/c           not_neg       not_int  ...   \n",
       "4        nopc                  nob/c           not_neg       not_int  ...   \n",
       "\n",
       "  construction_type occupancy_type Secured_by total_units credit_type  \\\n",
       "0                sb             pr       home          1U         EXP   \n",
       "1                sb             pr       home          1U        EQUI   \n",
       "2                sb             pr       home          1U         EXP   \n",
       "3                sb             pr       home          1U         EXP   \n",
       "4                sb             pr       home          1U        CRIF   \n",
       "\n",
       "  co-applicant_credit_type    age submission_of_application Region  \\\n",
       "0                      CIB  25-34                   to_inst  south   \n",
       "1                      EXP  55-64                   to_inst  North   \n",
       "2                      CIB  35-44                   to_inst  south   \n",
       "3                      CIB  45-54                  not_inst  North   \n",
       "4                      EXP  25-34                  not_inst  North   \n",
       "\n",
       "  Security_Type  \n",
       "0        direct  \n",
       "1        direct  \n",
       "2        direct  \n",
       "3        direct  \n",
       "4        direct  \n",
       "\n",
       "[5 rows x 21 columns]"
      ]
     },
     "execution_count": 58,
     "metadata": {},
     "output_type": "execute_result"
    }
   ],
   "source": [
    "data_cat.head()"
   ]
  },
  {
   "cell_type": "markdown",
   "id": "1e266417-040c-4adb-b212-fd8949de3c13",
   "metadata": {},
   "source": [
    "#### Creating 2 datasets one with one hot encoding and the other without OHE"
   ]
  },
  {
   "cell_type": "code",
   "execution_count": 59,
   "id": "e85fad93-c244-44d3-9d90-2cc037c183c0",
   "metadata": {},
   "outputs": [],
   "source": [
    "data_catWE = pd.get_dummies(data_cat, drop_first = True)"
   ]
  },
  {
   "cell_type": "code",
   "execution_count": 60,
   "id": "1bb6fe61-3a7b-4ec2-bcaf-22cf0ce98311",
   "metadata": {},
   "outputs": [
    {
     "data": {
      "text/html": [
       "<div>\n",
       "<style scoped>\n",
       "    .dataframe tbody tr th:only-of-type {\n",
       "        vertical-align: middle;\n",
       "    }\n",
       "\n",
       "    .dataframe tbody tr th {\n",
       "        vertical-align: top;\n",
       "    }\n",
       "\n",
       "    .dataframe thead th {\n",
       "        text-align: right;\n",
       "    }\n",
       "</style>\n",
       "<table border=\"1\" class=\"dataframe\">\n",
       "  <thead>\n",
       "    <tr style=\"text-align: right;\">\n",
       "      <th></th>\n",
       "      <th>loan_limit_ncf</th>\n",
       "      <th>Gender_Joint</th>\n",
       "      <th>Gender_Male</th>\n",
       "      <th>approv_in_adv_pre</th>\n",
       "      <th>loan_type_type2</th>\n",
       "      <th>loan_type_type3</th>\n",
       "      <th>loan_purpose_p2</th>\n",
       "      <th>loan_purpose_p3</th>\n",
       "      <th>loan_purpose_p4</th>\n",
       "      <th>Credit_Worthiness_l2</th>\n",
       "      <th>...</th>\n",
       "      <th>age_45-54</th>\n",
       "      <th>age_55-64</th>\n",
       "      <th>age_65-74</th>\n",
       "      <th>age_&lt;25</th>\n",
       "      <th>age_&gt;74</th>\n",
       "      <th>submission_of_application_to_inst</th>\n",
       "      <th>Region_North-East</th>\n",
       "      <th>Region_central</th>\n",
       "      <th>Region_south</th>\n",
       "      <th>Security_Type_direct</th>\n",
       "    </tr>\n",
       "  </thead>\n",
       "  <tbody>\n",
       "    <tr>\n",
       "      <th>0</th>\n",
       "      <td>0</td>\n",
       "      <td>0</td>\n",
       "      <td>0</td>\n",
       "      <td>0</td>\n",
       "      <td>0</td>\n",
       "      <td>0</td>\n",
       "      <td>0</td>\n",
       "      <td>0</td>\n",
       "      <td>0</td>\n",
       "      <td>0</td>\n",
       "      <td>...</td>\n",
       "      <td>0</td>\n",
       "      <td>0</td>\n",
       "      <td>0</td>\n",
       "      <td>0</td>\n",
       "      <td>0</td>\n",
       "      <td>1</td>\n",
       "      <td>0</td>\n",
       "      <td>0</td>\n",
       "      <td>1</td>\n",
       "      <td>1</td>\n",
       "    </tr>\n",
       "    <tr>\n",
       "      <th>1</th>\n",
       "      <td>0</td>\n",
       "      <td>0</td>\n",
       "      <td>1</td>\n",
       "      <td>0</td>\n",
       "      <td>1</td>\n",
       "      <td>0</td>\n",
       "      <td>0</td>\n",
       "      <td>0</td>\n",
       "      <td>0</td>\n",
       "      <td>0</td>\n",
       "      <td>...</td>\n",
       "      <td>0</td>\n",
       "      <td>1</td>\n",
       "      <td>0</td>\n",
       "      <td>0</td>\n",
       "      <td>0</td>\n",
       "      <td>1</td>\n",
       "      <td>0</td>\n",
       "      <td>0</td>\n",
       "      <td>0</td>\n",
       "      <td>1</td>\n",
       "    </tr>\n",
       "    <tr>\n",
       "      <th>2</th>\n",
       "      <td>0</td>\n",
       "      <td>0</td>\n",
       "      <td>1</td>\n",
       "      <td>1</td>\n",
       "      <td>0</td>\n",
       "      <td>0</td>\n",
       "      <td>0</td>\n",
       "      <td>0</td>\n",
       "      <td>0</td>\n",
       "      <td>0</td>\n",
       "      <td>...</td>\n",
       "      <td>0</td>\n",
       "      <td>0</td>\n",
       "      <td>0</td>\n",
       "      <td>0</td>\n",
       "      <td>0</td>\n",
       "      <td>1</td>\n",
       "      <td>0</td>\n",
       "      <td>0</td>\n",
       "      <td>1</td>\n",
       "      <td>1</td>\n",
       "    </tr>\n",
       "    <tr>\n",
       "      <th>3</th>\n",
       "      <td>0</td>\n",
       "      <td>0</td>\n",
       "      <td>1</td>\n",
       "      <td>0</td>\n",
       "      <td>0</td>\n",
       "      <td>0</td>\n",
       "      <td>0</td>\n",
       "      <td>0</td>\n",
       "      <td>1</td>\n",
       "      <td>0</td>\n",
       "      <td>...</td>\n",
       "      <td>1</td>\n",
       "      <td>0</td>\n",
       "      <td>0</td>\n",
       "      <td>0</td>\n",
       "      <td>0</td>\n",
       "      <td>0</td>\n",
       "      <td>0</td>\n",
       "      <td>0</td>\n",
       "      <td>0</td>\n",
       "      <td>1</td>\n",
       "    </tr>\n",
       "    <tr>\n",
       "      <th>4</th>\n",
       "      <td>0</td>\n",
       "      <td>1</td>\n",
       "      <td>0</td>\n",
       "      <td>1</td>\n",
       "      <td>0</td>\n",
       "      <td>0</td>\n",
       "      <td>0</td>\n",
       "      <td>0</td>\n",
       "      <td>0</td>\n",
       "      <td>0</td>\n",
       "      <td>...</td>\n",
       "      <td>0</td>\n",
       "      <td>0</td>\n",
       "      <td>0</td>\n",
       "      <td>0</td>\n",
       "      <td>0</td>\n",
       "      <td>0</td>\n",
       "      <td>0</td>\n",
       "      <td>0</td>\n",
       "      <td>0</td>\n",
       "      <td>1</td>\n",
       "    </tr>\n",
       "  </tbody>\n",
       "</table>\n",
       "<p>5 rows × 37 columns</p>\n",
       "</div>"
      ],
      "text/plain": [
       "   loan_limit_ncf  Gender_Joint  Gender_Male  approv_in_adv_pre  \\\n",
       "0               0             0            0                  0   \n",
       "1               0             0            1                  0   \n",
       "2               0             0            1                  1   \n",
       "3               0             0            1                  0   \n",
       "4               0             1            0                  1   \n",
       "\n",
       "   loan_type_type2  loan_type_type3  loan_purpose_p2  loan_purpose_p3  \\\n",
       "0                0                0                0                0   \n",
       "1                1                0                0                0   \n",
       "2                0                0                0                0   \n",
       "3                0                0                0                0   \n",
       "4                0                0                0                0   \n",
       "\n",
       "   loan_purpose_p4  Credit_Worthiness_l2  ...  age_45-54  age_55-64  \\\n",
       "0                0                     0  ...          0          0   \n",
       "1                0                     0  ...          0          1   \n",
       "2                0                     0  ...          0          0   \n",
       "3                1                     0  ...          1          0   \n",
       "4                0                     0  ...          0          0   \n",
       "\n",
       "   age_65-74  age_<25  age_>74  submission_of_application_to_inst  \\\n",
       "0          0        0        0                                  1   \n",
       "1          0        0        0                                  1   \n",
       "2          0        0        0                                  1   \n",
       "3          0        0        0                                  0   \n",
       "4          0        0        0                                  0   \n",
       "\n",
       "   Region_North-East  Region_central  Region_south  Security_Type_direct  \n",
       "0                  0               0             1                     1  \n",
       "1                  0               0             0                     1  \n",
       "2                  0               0             1                     1  \n",
       "3                  0               0             0                     1  \n",
       "4                  0               0             0                     1  \n",
       "\n",
       "[5 rows x 37 columns]"
      ]
     },
     "execution_count": 60,
     "metadata": {},
     "output_type": "execute_result"
    }
   ],
   "source": [
    "data_catWE.head()"
   ]
  },
  {
   "cell_type": "code",
   "execution_count": 61,
   "id": "4df436e1-be8e-44de-910d-4ad7594dd1bc",
   "metadata": {},
   "outputs": [],
   "source": [
    "le = LabelEncoder()"
   ]
  },
  {
   "cell_type": "code",
   "execution_count": 62,
   "id": "832ddba9-b80b-4bce-ad5a-d2dd607f7c04",
   "metadata": {},
   "outputs": [],
   "source": [
    "data_catWO = data_cat.apply(le.fit_transform)"
   ]
  },
  {
   "cell_type": "code",
   "execution_count": 63,
   "id": "20a1a9a4-9ab1-4a5e-80cf-6ddd601ed1df",
   "metadata": {},
   "outputs": [
    {
     "data": {
      "text/html": [
       "<div>\n",
       "<style scoped>\n",
       "    .dataframe tbody tr th:only-of-type {\n",
       "        vertical-align: middle;\n",
       "    }\n",
       "\n",
       "    .dataframe tbody tr th {\n",
       "        vertical-align: top;\n",
       "    }\n",
       "\n",
       "    .dataframe thead th {\n",
       "        text-align: right;\n",
       "    }\n",
       "</style>\n",
       "<table border=\"1\" class=\"dataframe\">\n",
       "  <thead>\n",
       "    <tr style=\"text-align: right;\">\n",
       "      <th></th>\n",
       "      <th>loan_limit</th>\n",
       "      <th>Gender</th>\n",
       "      <th>approv_in_adv</th>\n",
       "      <th>loan_type</th>\n",
       "      <th>loan_purpose</th>\n",
       "      <th>Credit_Worthiness</th>\n",
       "      <th>open_credit</th>\n",
       "      <th>business_or_commercial</th>\n",
       "      <th>Neg_ammortization</th>\n",
       "      <th>interest_only</th>\n",
       "      <th>...</th>\n",
       "      <th>construction_type</th>\n",
       "      <th>occupancy_type</th>\n",
       "      <th>Secured_by</th>\n",
       "      <th>total_units</th>\n",
       "      <th>credit_type</th>\n",
       "      <th>co-applicant_credit_type</th>\n",
       "      <th>age</th>\n",
       "      <th>submission_of_application</th>\n",
       "      <th>Region</th>\n",
       "      <th>Security_Type</th>\n",
       "    </tr>\n",
       "  </thead>\n",
       "  <tbody>\n",
       "    <tr>\n",
       "      <th>0</th>\n",
       "      <td>0</td>\n",
       "      <td>0</td>\n",
       "      <td>0</td>\n",
       "      <td>0</td>\n",
       "      <td>0</td>\n",
       "      <td>0</td>\n",
       "      <td>0</td>\n",
       "      <td>1</td>\n",
       "      <td>1</td>\n",
       "      <td>1</td>\n",
       "      <td>...</td>\n",
       "      <td>1</td>\n",
       "      <td>1</td>\n",
       "      <td>0</td>\n",
       "      <td>0</td>\n",
       "      <td>3</td>\n",
       "      <td>0</td>\n",
       "      <td>0</td>\n",
       "      <td>1</td>\n",
       "      <td>3</td>\n",
       "      <td>1</td>\n",
       "    </tr>\n",
       "    <tr>\n",
       "      <th>1</th>\n",
       "      <td>0</td>\n",
       "      <td>2</td>\n",
       "      <td>0</td>\n",
       "      <td>1</td>\n",
       "      <td>0</td>\n",
       "      <td>0</td>\n",
       "      <td>0</td>\n",
       "      <td>0</td>\n",
       "      <td>1</td>\n",
       "      <td>1</td>\n",
       "      <td>...</td>\n",
       "      <td>1</td>\n",
       "      <td>1</td>\n",
       "      <td>0</td>\n",
       "      <td>0</td>\n",
       "      <td>2</td>\n",
       "      <td>1</td>\n",
       "      <td>3</td>\n",
       "      <td>1</td>\n",
       "      <td>0</td>\n",
       "      <td>1</td>\n",
       "    </tr>\n",
       "    <tr>\n",
       "      <th>2</th>\n",
       "      <td>0</td>\n",
       "      <td>2</td>\n",
       "      <td>1</td>\n",
       "      <td>0</td>\n",
       "      <td>0</td>\n",
       "      <td>0</td>\n",
       "      <td>0</td>\n",
       "      <td>1</td>\n",
       "      <td>0</td>\n",
       "      <td>1</td>\n",
       "      <td>...</td>\n",
       "      <td>1</td>\n",
       "      <td>1</td>\n",
       "      <td>0</td>\n",
       "      <td>0</td>\n",
       "      <td>3</td>\n",
       "      <td>0</td>\n",
       "      <td>1</td>\n",
       "      <td>1</td>\n",
       "      <td>3</td>\n",
       "      <td>1</td>\n",
       "    </tr>\n",
       "    <tr>\n",
       "      <th>3</th>\n",
       "      <td>0</td>\n",
       "      <td>2</td>\n",
       "      <td>0</td>\n",
       "      <td>0</td>\n",
       "      <td>3</td>\n",
       "      <td>0</td>\n",
       "      <td>0</td>\n",
       "      <td>1</td>\n",
       "      <td>1</td>\n",
       "      <td>1</td>\n",
       "      <td>...</td>\n",
       "      <td>1</td>\n",
       "      <td>1</td>\n",
       "      <td>0</td>\n",
       "      <td>0</td>\n",
       "      <td>3</td>\n",
       "      <td>0</td>\n",
       "      <td>2</td>\n",
       "      <td>0</td>\n",
       "      <td>0</td>\n",
       "      <td>1</td>\n",
       "    </tr>\n",
       "    <tr>\n",
       "      <th>4</th>\n",
       "      <td>0</td>\n",
       "      <td>1</td>\n",
       "      <td>1</td>\n",
       "      <td>0</td>\n",
       "      <td>0</td>\n",
       "      <td>0</td>\n",
       "      <td>0</td>\n",
       "      <td>1</td>\n",
       "      <td>1</td>\n",
       "      <td>1</td>\n",
       "      <td>...</td>\n",
       "      <td>1</td>\n",
       "      <td>1</td>\n",
       "      <td>0</td>\n",
       "      <td>0</td>\n",
       "      <td>1</td>\n",
       "      <td>1</td>\n",
       "      <td>0</td>\n",
       "      <td>0</td>\n",
       "      <td>0</td>\n",
       "      <td>1</td>\n",
       "    </tr>\n",
       "  </tbody>\n",
       "</table>\n",
       "<p>5 rows × 21 columns</p>\n",
       "</div>"
      ],
      "text/plain": [
       "   loan_limit  Gender  approv_in_adv  loan_type  loan_purpose  \\\n",
       "0           0       0              0          0             0   \n",
       "1           0       2              0          1             0   \n",
       "2           0       2              1          0             0   \n",
       "3           0       2              0          0             3   \n",
       "4           0       1              1          0             0   \n",
       "\n",
       "   Credit_Worthiness  open_credit  business_or_commercial  Neg_ammortization  \\\n",
       "0                  0            0                       1                  1   \n",
       "1                  0            0                       0                  1   \n",
       "2                  0            0                       1                  0   \n",
       "3                  0            0                       1                  1   \n",
       "4                  0            0                       1                  1   \n",
       "\n",
       "   interest_only  ...  construction_type  occupancy_type  Secured_by  \\\n",
       "0              1  ...                  1               1           0   \n",
       "1              1  ...                  1               1           0   \n",
       "2              1  ...                  1               1           0   \n",
       "3              1  ...                  1               1           0   \n",
       "4              1  ...                  1               1           0   \n",
       "\n",
       "   total_units  credit_type  co-applicant_credit_type  age  \\\n",
       "0            0            3                         0    0   \n",
       "1            0            2                         1    3   \n",
       "2            0            3                         0    1   \n",
       "3            0            3                         0    2   \n",
       "4            0            1                         1    0   \n",
       "\n",
       "   submission_of_application  Region  Security_Type  \n",
       "0                          1       3              1  \n",
       "1                          1       0              1  \n",
       "2                          1       3              1  \n",
       "3                          0       0              1  \n",
       "4                          0       0              1  \n",
       "\n",
       "[5 rows x 21 columns]"
      ]
     },
     "execution_count": 63,
     "metadata": {},
     "output_type": "execute_result"
    }
   ],
   "source": [
    "data_catWO.head()"
   ]
  },
  {
   "cell_type": "code",
   "execution_count": 64,
   "id": "d6445736-faba-4d52-aa90-ca8aadeede1f",
   "metadata": {},
   "outputs": [
    {
     "data": {
      "text/html": [
       "<div>\n",
       "<style scoped>\n",
       "    .dataframe tbody tr th:only-of-type {\n",
       "        vertical-align: middle;\n",
       "    }\n",
       "\n",
       "    .dataframe tbody tr th {\n",
       "        vertical-align: top;\n",
       "    }\n",
       "\n",
       "    .dataframe thead th {\n",
       "        text-align: right;\n",
       "    }\n",
       "</style>\n",
       "<table border=\"1\" class=\"dataframe\">\n",
       "  <thead>\n",
       "    <tr style=\"text-align: right;\">\n",
       "      <th></th>\n",
       "      <th>loan_amount</th>\n",
       "      <th>rate_of_interest</th>\n",
       "      <th>Interest_rate_spread</th>\n",
       "      <th>Upfront_charges</th>\n",
       "      <th>term</th>\n",
       "      <th>property_value</th>\n",
       "      <th>income</th>\n",
       "      <th>Credit_Score</th>\n",
       "      <th>LTV</th>\n",
       "      <th>Status</th>\n",
       "      <th>dtir1</th>\n",
       "    </tr>\n",
       "  </thead>\n",
       "  <tbody>\n",
       "    <tr>\n",
       "      <th>0</th>\n",
       "      <td>116500</td>\n",
       "      <td>4.750</td>\n",
       "      <td>0.8593</td>\n",
       "      <td>1062.94</td>\n",
       "      <td>360.0</td>\n",
       "      <td>118000.0</td>\n",
       "      <td>1740.0</td>\n",
       "      <td>758</td>\n",
       "      <td>98.728814</td>\n",
       "      <td>1</td>\n",
       "      <td>45.0</td>\n",
       "    </tr>\n",
       "    <tr>\n",
       "      <th>1</th>\n",
       "      <td>206500</td>\n",
       "      <td>4.375</td>\n",
       "      <td>1.3645</td>\n",
       "      <td>7010.00</td>\n",
       "      <td>360.0</td>\n",
       "      <td>338000.0</td>\n",
       "      <td>4980.0</td>\n",
       "      <td>552</td>\n",
       "      <td>75.568182</td>\n",
       "      <td>1</td>\n",
       "      <td>27.0</td>\n",
       "    </tr>\n",
       "    <tr>\n",
       "      <th>2</th>\n",
       "      <td>406500</td>\n",
       "      <td>4.560</td>\n",
       "      <td>0.2000</td>\n",
       "      <td>595.00</td>\n",
       "      <td>360.0</td>\n",
       "      <td>508000.0</td>\n",
       "      <td>9480.0</td>\n",
       "      <td>834</td>\n",
       "      <td>80.019685</td>\n",
       "      <td>0</td>\n",
       "      <td>46.0</td>\n",
       "    </tr>\n",
       "    <tr>\n",
       "      <th>3</th>\n",
       "      <td>456500</td>\n",
       "      <td>4.250</td>\n",
       "      <td>0.6810</td>\n",
       "      <td>0.00</td>\n",
       "      <td>360.0</td>\n",
       "      <td>658000.0</td>\n",
       "      <td>11880.0</td>\n",
       "      <td>587</td>\n",
       "      <td>69.376900</td>\n",
       "      <td>0</td>\n",
       "      <td>42.0</td>\n",
       "    </tr>\n",
       "    <tr>\n",
       "      <th>4</th>\n",
       "      <td>696500</td>\n",
       "      <td>4.000</td>\n",
       "      <td>0.3042</td>\n",
       "      <td>0.00</td>\n",
       "      <td>360.0</td>\n",
       "      <td>758000.0</td>\n",
       "      <td>10440.0</td>\n",
       "      <td>602</td>\n",
       "      <td>91.886544</td>\n",
       "      <td>0</td>\n",
       "      <td>39.0</td>\n",
       "    </tr>\n",
       "  </tbody>\n",
       "</table>\n",
       "</div>"
      ],
      "text/plain": [
       "   loan_amount  rate_of_interest  Interest_rate_spread  Upfront_charges  \\\n",
       "0       116500             4.750                0.8593          1062.94   \n",
       "1       206500             4.375                1.3645          7010.00   \n",
       "2       406500             4.560                0.2000           595.00   \n",
       "3       456500             4.250                0.6810             0.00   \n",
       "4       696500             4.000                0.3042             0.00   \n",
       "\n",
       "    term  property_value   income  Credit_Score        LTV  Status  dtir1  \n",
       "0  360.0        118000.0   1740.0           758  98.728814       1   45.0  \n",
       "1  360.0        338000.0   4980.0           552  75.568182       1   27.0  \n",
       "2  360.0        508000.0   9480.0           834  80.019685       0   46.0  \n",
       "3  360.0        658000.0  11880.0           587  69.376900       0   42.0  \n",
       "4  360.0        758000.0  10440.0           602  91.886544       0   39.0  "
      ]
     },
     "execution_count": 64,
     "metadata": {},
     "output_type": "execute_result"
    }
   ],
   "source": [
    "data_num.head()"
   ]
  },
  {
   "cell_type": "markdown",
   "id": "8cf17a52-484e-4dc0-aab4-981f06306aa5",
   "metadata": {},
   "source": [
    "#### Combining Dataframes Together with OHE"
   ]
  },
  {
   "cell_type": "code",
   "execution_count": 65,
   "id": "ee48083d-5ded-4077-ae37-f45e10adf22b",
   "metadata": {},
   "outputs": [],
   "source": [
    "DataWE = pd.concat([data_num, data_catWE], axis=1)"
   ]
  },
  {
   "cell_type": "code",
   "execution_count": 66,
   "id": "29380fb5-daa7-4b66-bdbb-52ab4c80a7b6",
   "metadata": {},
   "outputs": [],
   "source": [
    "WEX = DataWE.iloc[:, DataWE.columns!='Status']\n",
    "WEY = DataWE['Status']"
   ]
  },
  {
   "cell_type": "markdown",
   "id": "532cf40b-96e8-47a2-863c-5d26c2504abe",
   "metadata": {},
   "source": [
    "#### Combining Dataframes Together without OHE"
   ]
  },
  {
   "cell_type": "code",
   "execution_count": 67,
   "id": "65d42055-2931-4fc2-a7b8-0ff144741913",
   "metadata": {},
   "outputs": [],
   "source": [
    "DataWO = pd.concat([data_num, data_catWO], axis =1)"
   ]
  },
  {
   "cell_type": "code",
   "execution_count": 68,
   "id": "100e1659-d1cb-4066-abc6-dbdb0a644191",
   "metadata": {},
   "outputs": [],
   "source": [
    "WOX = DataWO.iloc[:, DataWO.columns!='Status']\n",
    "WOY = DataWO['Status']"
   ]
  },
  {
   "cell_type": "markdown",
   "id": "abf097ec-7254-4b5c-b809-506fc558376d",
   "metadata": {},
   "source": [
    "#### Creating Training and Test Data"
   ]
  },
  {
   "cell_type": "code",
   "execution_count": 69,
   "id": "5af25bed-5f85-4e89-829f-e6b9c272262b",
   "metadata": {},
   "outputs": [],
   "source": [
    "Ex_train, Ex_test, Ey_train, Ey_test = train_test_split(WEX,WEY, test_size= .5)"
   ]
  },
  {
   "cell_type": "code",
   "execution_count": 70,
   "id": "eea19358-3d59-442d-982f-f239707b9ab7",
   "metadata": {},
   "outputs": [],
   "source": [
    "Ox_train, Ox_test, Oy_train, Oy_test = train_test_split(WOX,WOY, test_size= .5)"
   ]
  },
  {
   "cell_type": "markdown",
   "id": "d42c7753-7b3c-49ba-ac4f-04a44ecbf7af",
   "metadata": {},
   "source": [
    "#### Running Decision Tree with all variables "
   ]
  },
  {
   "cell_type": "code",
   "execution_count": 71,
   "id": "83348b9b-dbee-4c37-8c6c-4db9b1ea2c61",
   "metadata": {},
   "outputs": [],
   "source": [
    "clf = RandomForestClassifier(n_estimators=100)\n",
    "clf2 = RandomForestClassifier(n_estimators=100)"
   ]
  },
  {
   "cell_type": "code",
   "execution_count": 72,
   "id": "61984ae2-4b99-4a76-8810-b81bb60987bd",
   "metadata": {},
   "outputs": [
    {
     "data": {
      "text/plain": [
       "RandomForestClassifier()"
      ]
     },
     "execution_count": 72,
     "metadata": {},
     "output_type": "execute_result"
    }
   ],
   "source": [
    "clf.fit(Ex_train, Ey_train)\n",
    "clf2.fit(Ox_train, Oy_train)"
   ]
  },
  {
   "cell_type": "code",
   "execution_count": 73,
   "id": "93789b3f-589c-4153-a8b9-85d9a3e3a41c",
   "metadata": {},
   "outputs": [],
   "source": [
    "Ey_pred = clf.predict(Ex_test)\n",
    "Oy_pred = clf2.predict(Ox_test)"
   ]
  },
  {
   "cell_type": "markdown",
   "id": "66daf1ed-cab3-461c-8f26-f4cfb34ad934",
   "metadata": {},
   "source": [
    "### accuracy"
   ]
  },
  {
   "cell_type": "code",
   "execution_count": 74,
   "id": "58b13199-fb0e-46d0-98d7-649beb0c4094",
   "metadata": {},
   "outputs": [
    {
     "name": "stdout",
     "output_type": "stream",
     "text": [
      "Accuracy: 0.8879397322929979\n",
      "Accuracy: 0.8901459608528957\n"
     ]
    }
   ],
   "source": [
    "print(\"Accuracy:\",metrics.accuracy_score(Ey_test, Ey_pred))\n",
    "print(\"Accuracy:\",metrics.accuracy_score(Oy_test, Oy_pred))"
   ]
  },
  {
   "cell_type": "markdown",
   "id": "f6cd5fb4-048d-4008-b3b5-efd285b5a37e",
   "metadata": {},
   "source": [
    "#### f1 Score"
   ]
  },
  {
   "cell_type": "code",
   "execution_count": 75,
   "id": "c877b581-109e-4fa9-8092-14f17942a56d",
   "metadata": {},
   "outputs": [
    {
     "name": "stdout",
     "output_type": "stream",
     "text": [
      "with encoder f1 Score: 0.7210875242750954\n",
      "without encoder f1 Score: 0.7267251188006159\n"
     ]
    }
   ],
   "source": [
    "print(\"with encoder f1 Score:\",metrics.f1_score(Ey_test, Ey_pred))\n",
    "print(\"without encoder f1 Score:\",metrics.f1_score(Oy_test, Oy_pred))"
   ]
  },
  {
   "cell_type": "markdown",
   "id": "1c705393-1f24-41b5-8e45-7b9eb7ad8bbe",
   "metadata": {},
   "source": [
    "#### Important features"
   ]
  },
  {
   "cell_type": "code",
   "execution_count": 76,
   "id": "695bed99-646c-41da-878d-2d99c3240f64",
   "metadata": {},
   "outputs": [],
   "source": [
    "feature_impE = pd.Series(clf.feature_importances_,index=Ex_train.columns).sort_values(ascending=False)"
   ]
  },
  {
   "cell_type": "code",
   "execution_count": 77,
   "id": "e4bcb838-7eb5-4639-b4a4-f794351de258",
   "metadata": {},
   "outputs": [
    {
     "data": {
      "text/plain": [
       "credit_type_EQUI                     0.257996\n",
       "LTV                                  0.070028\n",
       "income                               0.069922\n",
       "dtir1                                0.062442\n",
       "Interest_rate_spread                 0.055181\n",
       "Upfront_charges                      0.049846\n",
       "property_value                       0.048473\n",
       "Credit_Score                         0.046862\n",
       "loan_amount                          0.045057\n",
       "rate_of_interest                     0.039688\n",
       "lump_sum_payment_not_lpsm            0.023729\n",
       "co-applicant_credit_type_EXP         0.021407\n",
       "Neg_ammortization_not_neg            0.017547\n",
       "credit_type_EXP                      0.017292\n",
       "credit_type_CRIF                     0.014931\n",
       "Gender_Joint                         0.014714\n",
       "term                                 0.011505\n",
       "Gender_Male                          0.010786\n",
       "loan_type_type3                      0.009370\n",
       "submission_of_application_to_inst    0.008896\n",
       "dtype: float64"
      ]
     },
     "execution_count": 77,
     "metadata": {},
     "output_type": "execute_result"
    }
   ],
   "source": [
    "feature_impE.head(20)"
   ]
  },
  {
   "cell_type": "code",
   "execution_count": 78,
   "id": "b238c912-c93a-4d79-ab02-9dd9a4bf967f",
   "metadata": {},
   "outputs": [],
   "source": [
    "feature_impO = pd.Series(clf2.feature_importances_,index=Ox_train.columns).sort_values(ascending=False)"
   ]
  },
  {
   "cell_type": "code",
   "execution_count": 79,
   "id": "ae2390cd-b143-4a9d-abd6-30b98ad3cfeb",
   "metadata": {},
   "outputs": [
    {
     "data": {
      "text/plain": [
       "credit_type                  0.250228\n",
       "income                       0.076834\n",
       "LTV                          0.074544\n",
       "dtir1                        0.067056\n",
       "Interest_rate_spread         0.061265\n",
       "Upfront_charges              0.053189\n",
       "property_value               0.049739\n",
       "Credit_Score                 0.049634\n",
       "loan_amount                  0.046764\n",
       "rate_of_interest             0.042652\n",
       "Gender                       0.027858\n",
       "co-applicant_credit_type     0.026427\n",
       "lump_sum_payment             0.024933\n",
       "age                          0.024127\n",
       "Neg_ammortization            0.019187\n",
       "loan_purpose                 0.017590\n",
       "loan_type                    0.015106\n",
       "term                         0.011455\n",
       "Region                       0.011278\n",
       "submission_of_application    0.009516\n",
       "dtype: float64"
      ]
     },
     "execution_count": 79,
     "metadata": {},
     "output_type": "execute_result"
    }
   ],
   "source": [
    "feature_impO.head(20)"
   ]
  },
  {
   "cell_type": "code",
   "execution_count": 80,
   "id": "8d5dfadc-28f1-4f02-b8e1-98286a71ef39",
   "metadata": {},
   "outputs": [
    {
     "data": {
      "text/plain": [
       "array([[55311,   814],\n",
       "       [ 7352, 10858]], dtype=int64)"
      ]
     },
     "execution_count": 80,
     "metadata": {},
     "output_type": "execute_result"
    }
   ],
   "source": [
    "metrics.confusion_matrix(Oy_test, Oy_pred)"
   ]
  },
  {
   "cell_type": "code",
   "execution_count": 81,
   "id": "420b1932-e99e-4398-b8a8-49d2a672cc64",
   "metadata": {},
   "outputs": [
    {
     "data": {
      "text/plain": [
       "array([[55237,   718],\n",
       "       [ 7612, 10768]], dtype=int64)"
      ]
     },
     "execution_count": 81,
     "metadata": {},
     "output_type": "execute_result"
    }
   ],
   "source": [
    "metrics.confusion_matrix(Ey_test, Ey_pred)"
   ]
  },
  {
   "cell_type": "code",
   "execution_count": 82,
   "id": "abd21773-a244-4f6a-a23e-8f524da40417",
   "metadata": {},
   "outputs": [
    {
     "data": {
      "text/plain": [
       "0    112031\n",
       "1     36639\n",
       "Name: Status, dtype: int64"
      ]
     },
     "execution_count": 82,
     "metadata": {},
     "output_type": "execute_result"
    }
   ],
   "source": [
    "data_comp['Status'].value_counts()"
   ]
  },
  {
   "cell_type": "markdown",
   "id": "48b1b2f4-346d-460f-9672-5daf1202fce1",
   "metadata": {},
   "source": [
    "### Improving model "
   ]
  },
  {
   "cell_type": "code",
   "execution_count": 83,
   "id": "1cf33cee-c4ab-4f71-9ff0-796b18805ed0",
   "metadata": {},
   "outputs": [],
   "source": [
    "new_var = feature_impO.head(20).index.array"
   ]
  },
  {
   "cell_type": "code",
   "execution_count": 84,
   "id": "01637a32-55a6-4d50-a2c5-7a7b1fa6766c",
   "metadata": {},
   "outputs": [],
   "source": [
    "clf3 = RandomForestClassifier(n_estimators=100)"
   ]
  },
  {
   "cell_type": "code",
   "execution_count": 85,
   "id": "9ee928dc-ae67-47cd-83dd-905b6765bccb",
   "metadata": {},
   "outputs": [],
   "source": [
    "new_train = Ox_train[new_var]\n",
    "new_test = Ox_test[new_var]"
   ]
  },
  {
   "cell_type": "code",
   "execution_count": 86,
   "id": "eed4068a-da2c-41c4-980a-0a86d4d9ada3",
   "metadata": {},
   "outputs": [
    {
     "data": {
      "text/plain": [
       "RandomForestClassifier()"
      ]
     },
     "execution_count": 86,
     "metadata": {},
     "output_type": "execute_result"
    }
   ],
   "source": [
    "clf3.fit(new_train,Oy_train)"
   ]
  },
  {
   "cell_type": "code",
   "execution_count": 87,
   "id": "5b3baf1f-ea31-413f-a00f-0f4ca7d26ac2",
   "metadata": {},
   "outputs": [],
   "source": [
    "new_pred =clf3.predict(new_test)"
   ]
  },
  {
   "cell_type": "code",
   "execution_count": 88,
   "id": "b74dee76-2de0-4441-a6ba-118fcaa62407",
   "metadata": {},
   "outputs": [
    {
     "name": "stdout",
     "output_type": "stream",
     "text": [
      "Accuracy: 0.8891101096387973\n"
     ]
    }
   ],
   "source": [
    "print(\"Accuracy:\",metrics.accuracy_score(Oy_test, new_pred))"
   ]
  },
  {
   "cell_type": "code",
   "execution_count": 89,
   "id": "f1c5dfce-a9ce-4ded-b4aa-ba9c289c1cff",
   "metadata": {},
   "outputs": [
    {
     "name": "stdout",
     "output_type": "stream",
     "text": [
      "f1 Score: 0.7248205641796027\n"
     ]
    }
   ],
   "source": [
    "print(\"f1 Score:\",metrics.f1_score(Oy_test, new_pred))"
   ]
  },
  {
   "cell_type": "code",
   "execution_count": 90,
   "id": "9d1ebbc5-2b7b-42fe-adbd-9c7058af343d",
   "metadata": {},
   "outputs": [
    {
     "data": {
      "text/plain": [
       "array([[55236,   889],\n",
       "       [ 7354, 10856]], dtype=int64)"
      ]
     },
     "execution_count": 90,
     "metadata": {},
     "output_type": "execute_result"
    }
   ],
   "source": [
    "metrics.confusion_matrix(Oy_test,new_pred)"
   ]
  },
  {
   "cell_type": "code",
   "execution_count": 91,
   "id": "a951853c-18ef-42ba-944d-7ecd35dc56d2",
   "metadata": {},
   "outputs": [],
   "source": [
    "New_feature_imp = pd.Series(clf3.feature_importances_,index=new_train.columns).sort_values(ascending=False)"
   ]
  },
  {
   "cell_type": "code",
   "execution_count": 92,
   "id": "c7724161-b1eb-4936-9abf-b4af4dd8904b",
   "metadata": {},
   "outputs": [
    {
     "data": {
      "text/plain": [
       "credit_type                  0.268415\n",
       "income                       0.080721\n",
       "LTV                          0.076319\n",
       "dtir1                        0.067828\n",
       "Interest_rate_spread         0.063922\n",
       "Upfront_charges              0.055815\n",
       "Credit_Score                 0.052662\n",
       "property_value               0.050147\n",
       "loan_amount                  0.048049\n",
       "rate_of_interest             0.042529\n",
       "co-applicant_credit_type     0.029448\n",
       "lump_sum_payment             0.025413\n",
       "Gender                       0.024995\n",
       "age                          0.023866\n",
       "loan_type                    0.019816\n",
       "Neg_ammortization            0.019319\n",
       "loan_purpose                 0.017283\n",
       "term                         0.013542\n",
       "Region                       0.011108\n",
       "submission_of_application    0.008803\n",
       "dtype: float64"
      ]
     },
     "execution_count": 92,
     "metadata": {},
     "output_type": "execute_result"
    }
   ],
   "source": [
    "New_feature_imp.head(20)"
   ]
  },
  {
   "cell_type": "markdown",
   "id": "1ea77b49-c53d-4642-b11c-647dc2db2aad",
   "metadata": {},
   "source": [
    "### Reducing hyperparameter range using RandomizedsearchCV"
   ]
  },
  {
   "cell_type": "code",
   "execution_count": 93,
   "id": "1bb338e4-1a85-4dc8-92f2-b17a07b6aa71",
   "metadata": {},
   "outputs": [],
   "source": [
    "# creating hyperparameter ranges\n",
    "\n",
    "# Number of trees in random forest\n",
    "n_estimators = [int(x) for x in np.linspace(start = 100, stop = 500, num = 10)]\n",
    "# Number of features to consider at every split\n",
    "max_features = ['auto', 'sqrt']\n",
    "# Maximum number of levels in tree\n",
    "max_depth = [int(x) for x in np.linspace(10, 110, num = 11)]\n",
    "max_depth.append(None)\n",
    "# Minimum number of samples required to split a node\n",
    "min_samples_split = [2, 5, 10]\n",
    "# Minimum number of samples required at each leaf node\n",
    "min_samples_leaf = [1, 2, 4]\n",
    "# Method of selecting samples for training each tree\n",
    "bootstrap = [True, False]\n",
    "\n",
    "# creating random grid\n",
    "random_grid = {'n_estimators': n_estimators,\n",
    "               'max_features': max_features,\n",
    "               'max_depth': max_depth,\n",
    "               'min_samples_split': min_samples_split,\n",
    "               'min_samples_leaf': min_samples_leaf,\n",
    "               'bootstrap': bootstrap}"
   ]
  },
  {
   "cell_type": "code",
   "execution_count": 94,
   "id": "63f67670-c47d-4a96-8b55-51f808532db8",
   "metadata": {},
   "outputs": [
    {
     "data": {
      "text/plain": [
       "{'n_estimators': [100, 144, 188, 233, 277, 322, 366, 411, 455, 500],\n",
       " 'max_features': ['auto', 'sqrt'],\n",
       " 'max_depth': [10, 20, 30, 40, 50, 60, 70, 80, 90, 100, 110, None],\n",
       " 'min_samples_split': [2, 5, 10],\n",
       " 'min_samples_leaf': [1, 2, 4],\n",
       " 'bootstrap': [True, False]}"
      ]
     },
     "execution_count": 94,
     "metadata": {},
     "output_type": "execute_result"
    }
   ],
   "source": [
    "random_grid"
   ]
  },
  {
   "cell_type": "code",
   "execution_count": 93,
   "id": "0ff339c7-865c-4b88-9978-cc6bfe06631c",
   "metadata": {},
   "outputs": [],
   "source": [
    "clf_rand = RandomForestClassifier()\n",
    "rf_random = RandomizedSearchCV(estimator = clf_rand, param_distributions = random_grid, n_iter = 100,\n",
    "                               cv = 5, verbose = 2, n_jobs = -1)"
   ]
  },
  {
   "cell_type": "code",
   "execution_count": 94,
   "id": "0a694237-bcc3-4548-b7ec-4a8b529e406d",
   "metadata": {},
   "outputs": [
    {
     "name": "stdout",
     "output_type": "stream",
     "text": [
      "Fitting 5 folds for each of 100 candidates, totalling 500 fits\n",
      "Duration: 0:25:21.470782\n"
     ]
    }
   ],
   "source": [
    "from datetime import datetime\n",
    "start_time = datetime.now()\n",
    "# do your work here\n",
    "\n",
    "rf_random.fit(new_train, Oy_train)\n",
    "\n",
    "\n",
    "end_time = datetime.now()\n",
    "print('Duration: {}'.format(end_time - start_time))"
   ]
  },
  {
   "cell_type": "code",
   "execution_count": 87,
   "id": "3596253e-cce6-499a-a1e2-8ab82fc647a8",
   "metadata": {},
   "outputs": [
    {
     "data": {
      "text/plain": [
       "{'n_estimators': 400,\n",
       " 'min_samples_split': 2,\n",
       " 'min_samples_leaf': 1,\n",
       " 'max_features': 'auto',\n",
       " 'max_depth': 90,\n",
       " 'bootstrap': False}"
      ]
     },
     "execution_count": 87,
     "metadata": {},
     "output_type": "execute_result"
    }
   ],
   "source": [
    "rf_random.best_params_"
   ]
  },
  {
   "cell_type": "code",
   "execution_count": 97,
   "id": "8d6226a2-aa52-489e-aa31-217b956d21cd",
   "metadata": {},
   "outputs": [],
   "source": [
    "best_random = rf_random.best_estimator_"
   ]
  },
  {
   "cell_type": "code",
   "execution_count": 103,
   "id": "1592844a-fe05-4164-bb90-cf316858b547",
   "metadata": {},
   "outputs": [],
   "source": [
    "def evaluate(model, testx, testy ):\n",
    "    predictions = model.predict(testx)\n",
    "    accuracy = metrics.accuracy_score(testy,predictions)\n",
    "    f1score = metrics.f1_score(Oy_test, Oy_pred)\n",
    "    print(\"Accuracy:\",accuracy)\n",
    "    print(\"F1 Score:\", f1score)\n",
    "    return metrics.confusion_matrix(Oy_test,predictions)"
   ]
  },
  {
   "cell_type": "code",
   "execution_count": 104,
   "id": "3129ca37-46a0-426f-b702-ca9015c9060d",
   "metadata": {},
   "outputs": [
    {
     "name": "stdout",
     "output_type": "stream",
     "text": [
      "Accuracy: 0.8902535817582565\n",
      "F1 Score: 0.7292638544251447\n"
     ]
    },
    {
     "data": {
      "text/plain": [
       "array([[54933,  1009],\n",
       "       [ 7149, 11244]], dtype=int64)"
      ]
     },
     "execution_count": 104,
     "metadata": {},
     "output_type": "execute_result"
    }
   ],
   "source": [
    "evaluate(best_random, new_test, Oy_test)"
   ]
  },
  {
   "cell_type": "code",
   "execution_count": 105,
   "id": "1846f3d7-3b15-4a73-b54b-b25a80a66a9b",
   "metadata": {},
   "outputs": [
    {
     "name": "stdout",
     "output_type": "stream",
     "text": [
      "Accuracy: 0.8875899643505751\n",
      "F1 Score: 0.7292638544251447\n"
     ]
    },
    {
     "data": {
      "text/plain": [
       "array([[55042,   900],\n",
       "       [ 7456, 10937]], dtype=int64)"
      ]
     },
     "execution_count": 105,
     "metadata": {},
     "output_type": "execute_result"
    }
   ],
   "source": [
    "evaluate(clf3, new_test, Oy_test)"
   ]
  },
  {
   "cell_type": "markdown",
   "id": "a2482c97-3a9a-4f17-b072-76089332acf2",
   "metadata": {},
   "source": [
    "### Using grid search cv"
   ]
  },
  {
   "cell_type": "code",
   "execution_count": 109,
   "id": "60271e96-cb76-427b-a482-88e026de64ba",
   "metadata": {},
   "outputs": [],
   "source": [
    "gridrf = RandomForestClassifier()\n",
    "param_grid = {\n",
    "    'bootstrap': [True],\n",
    "    'max_depth': [80, 90, 100, 110],\n",
    "    'max_features': [2, 3],\n",
    "    'min_samples_leaf': [3, 4, 5],\n",
    "    'min_samples_split': [8, 10, 12],\n",
    "    'n_estimators': [100, 200, 300, 1000]\n",
    "}\n",
    "\n",
    "grid_search = GridSearchCV(estimator = gridrf, param_grid = param_grid, \n",
    "                           cv =3, n_jobs = -1, verbose=2)"
   ]
  },
  {
   "cell_type": "code",
   "execution_count": 110,
   "id": "611d7f78-cb43-426e-a315-531391c01ba0",
   "metadata": {},
   "outputs": [
    {
     "name": "stdout",
     "output_type": "stream",
     "text": [
      "Fitting 3 folds for each of 288 candidates, totalling 864 fits\n",
      "Duration: 0:27:20.361430\n"
     ]
    }
   ],
   "source": [
    "start_time = datetime.now()\n",
    "\n",
    "best_grid = grid_search.fit(new_train, Oy_train)\n",
    "\n",
    "end_time = datetime.now()\n",
    "print('Duration: {}'.format(end_time - start_time))"
   ]
  },
  {
   "cell_type": "code",
   "execution_count": 112,
   "id": "e6202975-5c3d-46a3-b60d-1a323a1021cc",
   "metadata": {},
   "outputs": [
    {
     "data": {
      "text/plain": [
       "{'bootstrap': True,\n",
       " 'max_depth': 80,\n",
       " 'max_features': 3,\n",
       " 'min_samples_leaf': 3,\n",
       " 'min_samples_split': 8,\n",
       " 'n_estimators': 200}"
      ]
     },
     "execution_count": 112,
     "metadata": {},
     "output_type": "execute_result"
    }
   ],
   "source": [
    "best_grid.best_params_"
   ]
  },
  {
   "cell_type": "code",
   "execution_count": 111,
   "id": "b794b806-1657-497e-9651-45476ebac072",
   "metadata": {},
   "outputs": [
    {
     "name": "stdout",
     "output_type": "stream",
     "text": [
      "Accuracy: 0.8902535817582565\n",
      "F1 Score: 0.7292638544251447\n"
     ]
    },
    {
     "data": {
      "text/plain": [
       "array([[54933,  1009],\n",
       "       [ 7149, 11244]], dtype=int64)"
      ]
     },
     "execution_count": 111,
     "metadata": {},
     "output_type": "execute_result"
    }
   ],
   "source": [
    "evaluate(best_random, new_test, Oy_test)"
   ]
  },
  {
   "cell_type": "code",
   "execution_count": null,
   "id": "6cabd913-caab-4d26-a7ea-e13c182cf6c8",
   "metadata": {},
   "outputs": [],
   "source": []
  }
 ],
 "metadata": {
  "kernelspec": {
   "display_name": "Python 3 (ipykernel)",
   "language": "python",
   "name": "python3"
  },
  "language_info": {
   "codemirror_mode": {
    "name": "ipython",
    "version": 3
   },
   "file_extension": ".py",
   "mimetype": "text/x-python",
   "name": "python",
   "nbconvert_exporter": "python",
   "pygments_lexer": "ipython3",
   "version": "3.8.12"
  }
 },
 "nbformat": 4,
 "nbformat_minor": 5
}
